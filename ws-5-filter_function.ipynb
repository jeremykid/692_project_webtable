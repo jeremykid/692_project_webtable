{
 "cells": [
  {
   "cell_type": "code",
   "execution_count": 1,
   "metadata": {},
   "outputs": [],
   "source": [
    "from tqdm.notebook import tqdm\n",
    "import pandas as pd\n",
    "import pickle\n",
    "import numpy as np\n",
    "import sys\n",
    "sys.path.insert(1, './helpers')\n",
    "import web_table\n",
    "import json\n",
    "import os\n",
    "import time \n"
   ]
  },
  {
   "cell_type": "code",
   "execution_count": 2,
   "metadata": {},
   "outputs": [],
   "source": [
    "with open('./source/sub_domz_df.pickle', 'rb') as handle:\n",
    "    dmoz_df = pickle.load(handle)"
   ]
  },
  {
   "cell_type": "markdown",
   "metadata": {},
   "source": [
    "# filter \n",
    "\n",
    "- Minimum of 2 rows\n",
    "\n",
    "- Minimum of 2 columns\n",
    "\n",
    "- No cell with more than 100 characters in it.\n",
    "\n"
   ]
  },
  {
   "cell_type": "code",
   "execution_count": 3,
   "metadata": {},
   "outputs": [],
   "source": [
    "def filter_longer(flatten_array):\n",
    "    for value in flatten_array:\n",
    "        if isinstance(value, str) and len(value) > 100:\n",
    "            return True\n",
    "    return False\n",
    "def is_pass_filter(df):\n",
    "    temp_df = df.dropna()\n",
    "    if temp_df.shape[0] < 2:\n",
    "        return False\n",
    "    \n",
    "    if temp_df.shape[1] < 2:\n",
    "        return False\n",
    "    \n",
    "    if filter_longer(df.values.flatten()):\n",
    "        return False\n",
    "    \n",
    "    return True"
   ]
  },
  {
   "cell_type": "code",
   "execution_count": 4,
   "metadata": {},
   "outputs": [],
   "source": [
    "labels = ['Home', 'Society', 'Business', 'Arts', 'Recreation', 'Health',\n",
    " 'News', 'Computers', 'Sports', 'Games', 'Reference', 'Science', 'Shopping']\n",
    "\n",
    "label_dict = {}\n",
    "for label in labels:\n",
    "    label_dict[label] = {\n",
    "        'true': 0,\n",
    "        'false': 0\n",
    "    }\n",
    "\n",
    "# dmoz_df = dmoz_df[200: 300]"
   ]
  },
  {
   "cell_type": "code",
   "execution_count": 5,
   "metadata": {},
   "outputs": [
    {
     "data": {
      "application/vnd.jupyter.widget-view+json": {
       "model_id": "398b475ae8634eee80859523da463e2a",
       "version_major": 2,
       "version_minor": 0
      },
      "text/plain": [
       "HBox(children=(FloatProgress(value=0.0, max=10000.0), HTML(value='')))"
      ]
     },
     "metadata": {},
     "output_type": "display_data"
    },
    {
     "name": "stdout",
     "output_type": "stream",
     "text": [
      "\n"
     ]
    }
   ],
   "source": [
    "web_table_list_count = []\n",
    "extension_list = []\n",
    "data_list = []\n",
    "with tqdm(total=10000) as pbar:\n",
    "    for index, row in dmoz_df[100000:110000].iterrows():\n",
    "\n",
    "        df_list, e = web_table.extractor(row['domain'])\n",
    "\n",
    "        if e != '':\n",
    "            extension_list.append(e)\n",
    "#             print (e)\n",
    "\n",
    "        for df in df_list:\n",
    "            if is_pass_filter(df):\n",
    "                label_dict[row['label']]['true'] += 1\n",
    "                data_list.append([row['domain'], row['label'], df])\n",
    "            else:\n",
    "                label_dict[row['label']]['false'] += 1\n",
    "\n",
    "        pbar.update(1)\n",
    "        \n",
    "\n",
    "#print(data_list)\n",
    "#data = []\n"
   ]
  },
  {
   "cell_type": "code",
   "execution_count": 6,
   "metadata": {},
   "outputs": [],
   "source": [
    "with open('100k-110k_data.pickle', 'wb') as fp:\n",
    "    pickle.dump(data_list, fp)"
   ]
  },
  {
   "cell_type": "code",
   "execution_count": 13,
   "metadata": {},
   "outputs": [
    {
     "data": {
      "text/plain": [
       "['www.whippetrace.nu',\n",
       " 'Recreation',\n",
       "                           0           1\n",
       " 0                       NaN         NaN\n",
       " 1                       NaN         NaN\n",
       " 2                  Styrelse   Sektioner\n",
       " 3      HS styrelseprotokoll    Halmstad\n",
       " 4        Tävlingar/Resultat      Kalmar\n",
       " 5   Styrdokument/Blanketter    Karlstad\n",
       " 6                Utrustning  Norrköping\n",
       " 7          Tävlingsanmälare  Södertälje\n",
       " 8                  Seedning    Västerås\n",
       " 9                       NaN         NaN\n",
       " 10                      NaN         NaN]"
      ]
     },
     "execution_count": 13,
     "metadata": {},
     "output_type": "execute_result"
    }
   ],
   "source": [
    "data_list[6]"
   ]
  },
  {
   "cell_type": "code",
   "execution_count": 7,
   "metadata": {},
   "outputs": [],
   "source": [
    "# with open('data/data.pickle', 'rb') as fp:\n",
    "#     data = pickle.load(fp)\n",
    "#     print(len(data))\n",
    "# print(len(data_list))\n",
    "# with open('data/data.pickle', 'wb') as fp:\n",
    "#     data.extend(data_list)\n",
    "#     print(len(data))\n",
    "#     pickle.dump(data, fp)\n"
   ]
  }
 ],
 "metadata": {
  "kernelspec": {
   "display_name": "Python 3",
   "language": "python",
   "name": "python3"
  },
  "language_info": {
   "codemirror_mode": {
    "name": "ipython",
    "version": 3
   },
   "file_extension": ".py",
   "mimetype": "text/x-python",
   "name": "python",
   "nbconvert_exporter": "python",
   "pygments_lexer": "ipython3",
   "version": "3.7.9"
  }
 },
 "nbformat": 4,
 "nbformat_minor": 4
}
