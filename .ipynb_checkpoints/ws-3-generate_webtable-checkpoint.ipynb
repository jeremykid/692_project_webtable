{
 "cells": [
  {
   "cell_type": "code",
   "execution_count": 1,
   "metadata": {},
   "outputs": [],
   "source": [
    "from tqdm.notebook import tqdm\n",
    "import pandas as pd\n",
    "import pickle\n",
    "import numpy as np"
   ]
  },
  {
   "cell_type": "code",
   "execution_count": 2,
   "metadata": {},
   "outputs": [],
   "source": [
    "import sys\n",
    "sys.path.insert(1, '/Users/weijiesun/cmput/692/project/helpers')"
   ]
  },
  {
   "cell_type": "code",
   "execution_count": 3,
   "metadata": {},
   "outputs": [],
   "source": [
    "import web_table"
   ]
  },
  {
   "cell_type": "code",
   "execution_count": 4,
   "metadata": {},
   "outputs": [],
   "source": [
    "with open('./source/sub_domz_df.pickle', 'rb') as handle:\n",
    "    dmoz_df = pickle.load(handle)"
   ]
  },
  {
   "cell_type": "code",
   "execution_count": 5,
   "metadata": {},
   "outputs": [],
   "source": [
    "computer_domain_lists = dmoz_df[dmoz_df['label'] == 'Computers']['domain'].unique()"
   ]
  },
  {
   "cell_type": "code",
   "execution_count": 6,
   "metadata": {},
   "outputs": [
    {
     "name": "stdout",
     "output_type": "stream",
     "text": [
      "Extracting tables from: http://www.232analyzer.com\n",
      "[               Software Features             FREE Version  \\\n",
      "0   Timestamps (Monitoring Mode)                       No   \n",
      "1         Available Data Formats  Dec, Oct, Bin and ASCII   \n",
      "2                Monitoring Mode                       No   \n",
      "3           Programmable Buttons                       No   \n",
      "4     Programmable Auto-Response                       No   \n",
      "5            Programmable Macros                       No   \n",
      "6        New/Save Device Profile                       No   \n",
      "7            Open Device Profile                      Yes   \n",
      "8             Open/Save Log File                       No   \n",
      "9                     User Notes                      Yes   \n",
      "10           Checksum Calculator                      Yes   \n",
      "11            Notation Converter                      Yes   \n",
      "12                       Options                      Yes   \n",
      "\n",
      "              Registered Version  \n",
      "0                            Yes  \n",
      "1   Hex, Dec, Oct, Bin and ASCII  \n",
      "2                            Yes  \n",
      "3                            Yes  \n",
      "4                            Yes  \n",
      "5                            Yes  \n",
      "6                            Yes  \n",
      "7                            Yes  \n",
      "8                            Yes  \n",
      "9                            Yes  \n",
      "10                           Yes  \n",
      "11                           Yes  \n",
      "12                           Yes  ,                                                    0  \\\n",
      "0                                                NaN   \n",
      "1  Serial Port Monitor  Monitor 3-wire RS232/TTL ...   \n",
      "\n",
      "                                                   1  \\\n",
      "0                                                NaN   \n",
      "1  Serial Port Terminal  Control/debug RS232/RS48...   \n",
      "\n",
      "                                                   2  \n",
      "0                                                NaN  \n",
      "1  Real-world example  How to use 232Analyzer sof...  ,     0   1   2   3\n",
      "0 NaN NaN NaN NaN\n",
      "1 NaN NaN NaN NaN\n",
      "2 NaN NaN NaN NaN\n",
      "3 NaN NaN NaN NaN\n",
      "4 NaN NaN NaN NaN,                           0                         1              2  \\\n",
      "0                       NaN                       NaN            NaN   \n",
      "1  Programmable Buttons (1)  Programmable Buttons (2)  Auto-Response   \n",
      "2                       NaN                       NaN            NaN   \n",
      "3               Half-duplex               Full-duplex     Send ASCII   \n",
      "4                       NaN                       NaN            NaN   \n",
      "5                 Open Port         Screen Adjustment   Send Signals   \n",
      "\n",
      "                3  \n",
      "0             NaN  \n",
      "1          Macros  \n",
      "2             NaN  \n",
      "3        Send Hex  \n",
      "4             NaN  \n",
      "5  Check COM Port  ]\n"
     ]
    }
   ],
   "source": [
    "for computer_domain in computer_domain_lists:\n",
    "    print (web_table.extractor(computer_domain))\n",
    "    break"
   ]
  }
 ],
 "metadata": {
  "kernelspec": {
   "display_name": "Python 3",
   "language": "python",
   "name": "python3"
  },
  "language_info": {
   "codemirror_mode": {
    "name": "ipython",
    "version": 3
   },
   "file_extension": ".py",
   "mimetype": "text/x-python",
   "name": "python",
   "nbconvert_exporter": "python",
   "pygments_lexer": "ipython3",
   "version": "3.7.9"
  }
 },
 "nbformat": 4,
 "nbformat_minor": 4
}
