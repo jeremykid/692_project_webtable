{
 "cells": [
  {
   "cell_type": "code",
   "execution_count": 1,
   "metadata": {},
   "outputs": [],
   "source": [
    "from tqdm.notebook import tqdm\n",
    "import pandas as pd\n",
    "import pickle\n",
    "import numpy as np\n",
    "import sys\n",
    "sys.path.insert(1, './helpers')\n",
    "import web_table"
   ]
  },
  {
   "cell_type": "code",
   "execution_count": 2,
   "metadata": {},
   "outputs": [],
   "source": [
    "with open('./source/sub_domz_df.pickle', 'rb') as handle:\n",
    "    dmoz_df = pickle.load(handle)"
   ]
  },
  {
   "cell_type": "code",
   "execution_count": 3,
   "metadata": {},
   "outputs": [],
   "source": [
    "labels = ['Home', 'Society', 'Business', 'Arts', 'Recreation', 'Health',\n",
    " 'News', 'Computers', 'Sports', 'Games', 'Reference', 'Science', 'Shopping']\n",
    "\n",
    "label_dict = {}\n",
    "for label in labels:\n",
    "    label_dict[label] = []"
   ]
  },
  {
   "cell_type": "code",
   "execution_count": 4,
   "metadata": {},
   "outputs": [],
   "source": [
    "domain_list = dmoz_df['domain'].to_list()"
   ]
  },
  {
   "cell_type": "code",
   "execution_count": 5,
   "metadata": {},
   "outputs": [
    {
     "data": {
      "text/plain": [
       "array(['Computers', 'Business', 'Society', 'Arts', 'Health', 'Science',\n",
       "       'Reference', 'Recreation', 'Shopping', 'Sports', 'Games', 'News',\n",
       "       'Home'], dtype=object)"
      ]
     },
     "execution_count": 5,
     "metadata": {},
     "output_type": "execute_result"
    }
   ],
   "source": [
    "dmoz_df['label'].unique()"
   ]
  },
  {
   "cell_type": "code",
   "execution_count": 11,
   "metadata": {},
   "outputs": [],
   "source": [
    "# dmoz_df[:20000]\n",
    "dmoz_df = dmoz_df[:30]"
   ]
  },
  {
   "cell_type": "code",
   "execution_count": 13,
   "metadata": {},
   "outputs": [
    {
     "data": {
      "application/vnd.jupyter.widget-view+json": {
       "model_id": "36579b81852442c99276960d7ed712ac",
       "version_major": 2,
       "version_minor": 0
      },
      "text/plain": [
       "HBox(children=(FloatProgress(value=0.0, max=30.0), HTML(value='')))"
      ]
     },
     "metadata": {},
     "output_type": "display_data"
    },
    {
     "name": "stdout",
     "output_type": "stream",
     "text": [
      "\n"
     ]
    },
    {
     "data": {
      "text/plain": [
       "{'Home': [],\n",
       " 'Society': [2, 2, 2, 2, 2, 2, 2, 2],\n",
       " 'Business': [2,\n",
       "  2,\n",
       "  2,\n",
       "  2,\n",
       "  2,\n",
       "  2,\n",
       "  2,\n",
       "  2,\n",
       "  2,\n",
       "  2,\n",
       "  2,\n",
       "  2,\n",
       "  2,\n",
       "  2,\n",
       "  2,\n",
       "  2,\n",
       "  2,\n",
       "  2,\n",
       "  2,\n",
       "  2,\n",
       "  2,\n",
       "  2,\n",
       "  2,\n",
       "  2,\n",
       "  2,\n",
       "  2,\n",
       "  2,\n",
       "  2,\n",
       "  2,\n",
       "  2],\n",
       " 'Arts': [2, 2, 2, 2, 2, 2],\n",
       " 'Recreation': [2, 2],\n",
       " 'Health': [2, 2, 2, 2],\n",
       " 'News': [],\n",
       " 'Computers': [2, 2, 2, 2, 2, 2, 2],\n",
       " 'Sports': [],\n",
       " 'Games': [],\n",
       " 'Reference': [2, 2],\n",
       " 'Science': [2, 2],\n",
       " 'Shopping': []}"
      ]
     },
     "execution_count": 13,
     "metadata": {},
     "output_type": "execute_result"
    }
   ],
   "source": [
    "web_table_list_count = []\n",
    "with tqdm(total=dmoz_df.shape[0]) as pbar:\n",
    "    for index, row in dmoz_df.iterrows():\n",
    "    #     print(, row['c2'])\n",
    "    #     print (web_table.extractor(computer_domain))\n",
    "        df1 = web_table.extractor(row['domain'])\n",
    "        label_dict[row['label']].append(len(df1))\n",
    "        pbar.update(1)\n",
    "    #     break\n",
    "label_dict"
   ]
  },
  {
   "cell_type": "code",
   "execution_count": 23,
   "metadata": {},
   "outputs": [
    {
     "name": "stdout",
     "output_type": "stream",
     "text": [
      "# packages in environment at /Users/weijiesun/anaconda3/envs/zdwenv:\n",
      "#\n",
      "# Name                    Version                   Build  Channel\n",
      "appnope                   0.1.0           py37hc8dfbb8_1001    conda-forge\n",
      "argon2-cffi               20.1.0           py37h60d8a13_1    conda-forge\n",
      "async_generator           1.10                       py_0    conda-forge\n",
      "attrs                     20.2.0             pyh9f0ad1d_0    conda-forge\n",
      "backcall                  0.2.0              pyh9f0ad1d_0    conda-forge\n",
      "backports                 1.0                        py_2    conda-forge\n",
      "backports.functools_lru_cache 1.6.1                      py_0    conda-forge\n",
      "beautifulsoup4            4.6.0                    pypi_0    pypi\n",
      "bleach                    3.2.1              pyh9f0ad1d_0    conda-forge\n",
      "boilerpipe3               1.1                      pypi_0    pypi\n",
      "brotlipy                  0.7.0           py37h60d8a13_1000    conda-forge\n",
      "bs4                       0.0.1                    pypi_0    pypi\n",
      "ca-certificates           2020.7.22                     0    anaconda\n",
      "certifi                   2018.4.16                pypi_0    pypi\n",
      "cffi                      1.14.2           py37hed5b41f_0  \n",
      "charade                   1.0.3                    pypi_0    pypi\n",
      "chardet                   3.0.4           py37hc8dfbb8_1007    conda-forge\n",
      "coloredlogs               10.0                     pypi_0    pypi\n",
      "cryptography              3.1              py37h94e4008_0    conda-forge\n",
      "cycler                    0.10.0                   py37_0    anaconda\n",
      "decorator                 4.4.2                      py_0    conda-forge\n",
      "defusedxml                0.6.0                      py_0    conda-forge\n",
      "entrypoints               0.3             py37hc8dfbb8_1001    conda-forge\n",
      "et-xmlfile                1.0.1                    pypi_0    pypi\n",
      "freetype                  2.10.2               ha233b18_0    anaconda\n",
      "html5lib                  1.1                      pypi_0    pypi\n",
      "humanfriendly             4.12.1                   pypi_0    pypi\n",
      "idna                      2.7                      pypi_0    pypi\n",
      "importlib-metadata        1.7.0            py37hc8dfbb8_0    conda-forge\n",
      "importlib_metadata        1.7.0                         0    conda-forge\n",
      "install                   1.3.4                    pypi_0    pypi\n",
      "ipykernel                 5.3.4            py37h43977f1_0    conda-forge\n",
      "ipython                   7.18.1           py37hc6149b9_0    conda-forge\n",
      "ipython_genutils          0.2.0                      py_1    conda-forge\n",
      "ipywidgets                7.5.1              pyh9f0ad1d_1    conda-forge\n",
      "jdcal                     1.4.1                    pypi_0    pypi\n",
      "jedi                      0.17.2           py37hc8dfbb8_0    conda-forge\n",
      "jinja2                    2.11.2             pyh9f0ad1d_0    conda-forge\n",
      "joblib                    0.16.0                     py_0    anaconda\n",
      "jpeg                      9b                   he5867d9_2    anaconda\n",
      "jpype1-py3                0.5.5.2                  pypi_0    pypi\n",
      "json5                     0.9.4              pyh9f0ad1d_0    conda-forge\n",
      "jsonschema                3.2.0            py37hc8dfbb8_1    conda-forge\n",
      "jupyter_client            6.1.7                      py_0    conda-forge\n",
      "jupyter_core              4.6.3            py37hc8dfbb8_1    conda-forge\n",
      "jupyterlab                2.2.8                      py_0    conda-forge\n",
      "jupyterlab_pygments       0.1.1              pyh9f0ad1d_0    conda-forge\n",
      "jupyterlab_server         1.2.0                      py_0    conda-forge\n",
      "kiwisolver                1.2.0            py37h04f5b5a_0    anaconda\n",
      "lcms2                     2.11                 h92f6f08_0    anaconda\n",
      "libblas                   3.8.0               17_openblas    conda-forge\n",
      "libcblas                  3.8.0               17_openblas    conda-forge\n",
      "libcxx                    10.0.1               h5f48129_0    conda-forge\n",
      "libffi                    3.3                  hb1e8313_2  \n",
      "libgfortran               4.0.0                         3    conda-forge\n",
      "libgfortran4              7.5.0                h1565451_3    conda-forge\n",
      "liblapack                 3.8.0               17_openblas    conda-forge\n",
      "libopenblas               0.3.10          openmp_h63d9170_4    conda-forge\n",
      "libpng                    1.6.37               ha441bb4_0    anaconda\n",
      "libsodium                 1.0.18               h01d97ff_0    conda-forge\n",
      "libtiff                   4.1.0                hcb84e12_1    anaconda\n",
      "llvm-openmp               10.0.1               h28b9765_0    conda-forge\n",
      "lxml                      4.2.3                    pypi_0    pypi\n",
      "lz4-c                     1.9.2                h79c402e_3    anaconda\n",
      "markupsafe                1.1.1            py37h60d8a13_1    conda-forge\n",
      "matplotlib                3.3.1                         0    anaconda\n",
      "matplotlib-base           3.3.1            py37h181983e_0    anaconda\n",
      "mistune                   0.8.4           py37h9bfed18_1001    conda-forge\n",
      "nbclient                  0.5.0                      py_0    conda-forge\n",
      "nbconvert                 6.0.3            py37hc8dfbb8_0    conda-forge\n",
      "nbformat                  5.0.7                      py_0    conda-forge\n",
      "ncurses                   6.2                  hb1e8313_1    conda-forge\n",
      "nest-asyncio              1.4.0                      py_0    conda-forge\n",
      "nltk                      3.3                      pypi_0    pypi\n",
      "notebook                  6.1.4            py37hc8dfbb8_0    conda-forge\n",
      "numpy                     1.19.1           py37h1efc2f6_2    conda-forge\n",
      "olefile                   0.46                     py37_0    anaconda\n",
      "openpyxl                  3.0.5                    pypi_0    pypi\n",
      "openssl                   1.1.1h               haf1e3a3_0    anaconda\n",
      "packaging                 20.4               pyh9f0ad1d_0    conda-forge\n",
      "pandas                    1.0.5            py37h94625e5_0    conda-forge\n",
      "pandoc                    2.10.1               haf1e3a3_0    conda-forge\n",
      "pandocfilters             1.4.2                      py_1    conda-forge\n",
      "parso                     0.7.1              pyh9f0ad1d_0    conda-forge\n",
      "patsy                     0.5.1                    py37_0    anaconda\n",
      "pexpect                   4.8.0            py37hc8dfbb8_1    conda-forge\n",
      "pickleshare               0.7.5           py37hc8dfbb8_1001    conda-forge\n",
      "pillow                    7.2.0            py37ha54b6ba_0    anaconda\n",
      "pip                       20.2.3                     py_0    conda-forge\n",
      "prometheus_client         0.8.0              pyh9f0ad1d_0    conda-forge\n",
      "prompt-toolkit            3.0.7                      py_0    conda-forge\n",
      "ptyprocess                0.6.0                   py_1001    conda-forge\n",
      "pycparser                 2.20               pyh9f0ad1d_2    conda-forge\n",
      "pygments                  2.7.1                      py_0    conda-forge\n",
      "pyopenssl                 19.1.0                     py_1    conda-forge\n",
      "pyparsing                 2.4.7              pyh9f0ad1d_0    conda-forge\n",
      "pyrsistent                0.17.3           py37h60d8a13_0    conda-forge\n",
      "pysocks                   1.7.1            py37hc8dfbb8_1    conda-forge\n",
      "python                    3.7.9                h26836e1_0  \n",
      "python-dateutil           2.8.1                      py_0    conda-forge\n",
      "python_abi                3.7                     1_cp37m    conda-forge\n",
      "pytz                      2020.1             pyh9f0ad1d_0    conda-forge\n",
      "pyzmq                     19.0.2           py37hf1e22d8_0    conda-forge\n",
      "readline                  8.0                  h0678c8f_2    conda-forge\n",
      "requests                  2.19.1                   pypi_0    pypi\n",
      "scikit-learn              0.23.2           py37h959d312_0    anaconda\n",
      "scipy                     1.5.2            py37h2702c91_0    conda-forge\n",
      "seaborn                   0.11.0                     py_0    anaconda\n",
      "send2trash                1.5.0                      py_0    conda-forge\n",
      "setuptools                49.6.0           py37hc8dfbb8_1    conda-forge\n",
      "six                       1.11.0                   pypi_0    pypi\n",
      "soupsieve                 2.0.1                    pypi_0    pypi\n",
      "sqlite                    3.33.0               h960bd1c_0    conda-forge\n",
      "statsmodels               0.11.1           py37haf1e3a3_0    anaconda\n",
      "subprocess-run            0.0.8                    pypi_0    pypi\n",
      "terminado                 0.8.3            py37hc8dfbb8_1    conda-forge\n",
      "testpath                  0.4.4                      py_0    conda-forge\n",
      "threadpoolctl             2.1.0              pyh5ca1d4c_0    anaconda\n",
      "tk                        8.6.10               hb0a8c7a_0    conda-forge\n",
      "tornado                   6.0.4            py37h9bfed18_1    conda-forge\n",
      "tqdm                      4.49.0             pyh9f0ad1d_0    conda-forge\n",
      "traitlets                 5.0.4                      py_0    conda-forge\n",
      "urllib3                   1.23                     pypi_0    pypi\n",
      "wcwidth                   0.2.5              pyh9f0ad1d_1    conda-forge\n",
      "webencodings              0.5.1                      py_1    conda-forge\n",
      "wheel                     0.35.1             pyh9f0ad1d_0    conda-forge\n",
      "widgetsnbextension        3.5.1            py37hc8dfbb8_1    conda-forge\n",
      "xlrd                      1.2.0                    py37_0    anaconda\n",
      "xz                        5.2.5                haf1e3a3_1    conda-forge\n",
      "zeromq                    4.3.2                h4a8c4bd_3    conda-forge\n",
      "zipp                      3.1.0                      py_0    conda-forge\n",
      "zlib                      1.2.11            h7795811_1009    conda-forge\n",
      "zstd                      1.4.4                h1990bb4_3    anaconda\n"
     ]
    }
   ],
   "source": [
    "!conda list"
   ]
  }
 ],
 "metadata": {
  "kernelspec": {
   "display_name": "Python 3",
   "language": "python",
   "name": "python3"
  },
  "language_info": {
   "codemirror_mode": {
    "name": "ipython",
    "version": 3
   },
   "file_extension": ".py",
   "mimetype": "text/x-python",
   "name": "python",
   "nbconvert_exporter": "python",
   "pygments_lexer": "ipython3",
   "version": "3.8.3"
  }
 },
 "nbformat": 4,
 "nbformat_minor": 4
}
