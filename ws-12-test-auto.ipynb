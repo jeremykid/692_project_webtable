{
 "cells": [
  {
   "cell_type": "code",
   "execution_count": 13,
   "metadata": {},
   "outputs": [],
   "source": [
    "import numpy as np\n",
    "from deeptables.models import deeptable, deepnets\n",
    "from deeptables.datasets import dsutils\n",
    "from sklearn.model_selection import train_test_split\n",
    "import pickle"
   ]
  },
  {
   "cell_type": "code",
   "execution_count": 14,
   "metadata": {},
   "outputs": [],
   "source": [
    "#loading data\n",
    "df = dsutils.load_bank()\n",
    "df_train, df_test = train_test_split(df, test_size=0.2, random_state=42)\n",
    "\n",
    "y = df_train.pop('y')\n",
    "y_test = df_test.pop('y')"
   ]
  },
  {
   "cell_type": "code",
   "execution_count": 29,
   "metadata": {},
   "outputs": [],
   "source": [
    "with open('./source/wiki_df.pickle', 'rb') as handle:\n",
    "    dtf = dtf.drop(['X'], axis=1)\n",
    "    dtf = pickle.load(handle)"
   ]
  },
  {
   "cell_type": "code",
   "execution_count": 30,
   "metadata": {},
   "outputs": [],
   "source": [
    "df_train, df_test = train_test_split(dtf, test_size=0.2, random_state=42)\n",
    "\n",
    "y = df_train.pop('y')\n",
    "y_test = df_test.pop('y')"
   ]
  },
  {
   "cell_type": "code",
   "execution_count": 33,
   "metadata": {},
   "outputs": [
    {
     "name": "stdout",
     "output_type": "stream",
     "text": [
      "4 class detected, inferred as a [multiclass classification] task\n",
      "Preparing features cost:0.016480684280395508\n",
      "Imputation cost:0.11377310752868652\n",
      "Categorical encoding cost:0.020634174346923828\n",
      "fit_transform cost:0.27905702590942383\n",
      "Injected a callback [EarlyStopping]. monitor:val_accuracy, patience:1, mode:max\n",
      ">>>>>>>>>>>>>>>>>>>>>> Model Desc <<<<<<<<<<<<<<<<<<<<<<< \n",
      "---------------------------------------------------------\n",
      "inputs:\n",
      "---------------------------------------------------------\n",
      "['all_categorical_vars: (6)', 'input_continuous_all: (0)']\n",
      "---------------------------------------------------------\n",
      "embeddings:\n",
      "---------------------------------------------------------\n",
      "input_dims: [119, 121, 126, 134, 187, 192]\n",
      "output_dims: [4, 4, 4, 4, 4, 4]\n",
      "dropout: 0.3\n",
      "---------------------------------------------------------\n",
      "dense: dropout: 0\n",
      "batch_normalization: False\n",
      "---------------------------------------------------------\n",
      "concat_embed_dense: shape: (None, 24)\n",
      "---------------------------------------------------------\n",
      "nets: ['linear', 'fm_nets', 'dnn_nets']\n",
      "---------------------------------------------------------\n",
      "linear: input_shape (None, 6), output_shape (None, 1)\n",
      "fm: input_shape (None, 6, 4), output_shape (None, 1)\n",
      "dnn: input_shape (None, 24), output_shape (None, 64)\n",
      "---------------------------------------------------------\n",
      "stacking_op: add\n",
      "---------------------------------------------------------\n",
      "output: activation: softmax, output_shape: (None, 4), use_bias: True\n",
      "loss: categorical_crossentropy\n",
      "optimizer: Adam\n",
      "---------------------------------------------------------\n",
      "\n",
      "Epoch 1/10\n",
      "2/2 [==============================] - 0s 133ms/step - loss: 1.4030 - accuracy: 0.2171 - val_loss: 1.3827 - val_accuracy: 0.2564\n",
      "Epoch 2/10\n",
      "2/2 [==============================] - 0s 16ms/step - loss: 1.3590 - accuracy: 0.2763 - val_loss: 1.3806 - val_accuracy: 0.3590\n",
      "Epoch 3/10\n",
      "2/2 [==============================] - 0s 20ms/step - loss: 1.3221 - accuracy: 0.2961 - val_loss: 1.3779 - val_accuracy: 0.4359\n",
      "Epoch 4/10\n",
      "1/2 [==============>...............] - ETA: 0s - loss: 1.2833 - accuracy: 0.3438Restoring model weights from the end of the best epoch.\n",
      "2/2 [==============================] - 0s 21ms/step - loss: 1.2978 - accuracy: 0.3289 - val_loss: 1.3752 - val_accuracy: 0.4359\n",
      "Epoch 00004: early stopping\n",
      "Model has been saved to:dt_output/dt_20201124 163834_linear_fm_nets_dnn_nets/linear+fm_nets+dnn_nets.h5\n",
      "transform_X cost:0.01700615882873535\n",
      "transform_y cost:0.00017690658569335938\n",
      "{'loss': 1.3806633949279785, 'accuracy': 0.4791666567325592}\n",
      "transform_X cost:0.019329071044921875\n",
      "predict_proba cost:0.23570871353149414\n"
     ]
    }
   ],
   "source": [
    "config = deeptable.ModelConfig(nets=deepnets.DeepFM)\n",
    "dt = deeptable.DeepTable(config=config)\n",
    "model, history = dt.fit(df_train, y, epochs=10)\n",
    "\n",
    "#evaluation\n",
    "result = dt.evaluate(df_test,y_test, batch_size=512, verbose=0)\n",
    "print(result)\n",
    "\n",
    "#scoring\n",
    "preds = dt.predict(df_test)"
   ]
  },
  {
   "cell_type": "code",
   "execution_count": 46,
   "metadata": {},
   "outputs": [
    {
     "data": {
      "text/plain": [
       "array(['society', 'sports', 'society', 'society', 'society', 'society',\n",
       "       'sports', 'sports', 'society', 'society', 'society', 'sports',\n",
       "       'society', 'sports', 'sports', 'sports', 'sports', 'sports',\n",
       "       'sports', 'society', 'society', 'society', 'science', 'society',\n",
       "       'sports', 'sports', 'society', 'society', 'society', 'society',\n",
       "       'society', 'society', 'sports', 'sports', 'society', 'society',\n",
       "       'society', 'society', 'society', 'sports', 'sports', 'society',\n",
       "       'society', 'society', 'society', 'sports', 'sports', 'society'],\n",
       "      dtype=object)"
      ]
     },
     "execution_count": 46,
     "metadata": {},
     "output_type": "execute_result"
    }
   ],
   "source": [
    "# preds\n",
    "# result\n",
    "predicted = preds\n",
    "preds"
   ]
  },
  {
   "cell_type": "code",
   "execution_count": 43,
   "metadata": {},
   "outputs": [
    {
     "data": {
      "text/plain": [
       "(48,)"
      ]
     },
     "execution_count": 43,
     "metadata": {},
     "output_type": "execute_result"
    }
   ],
   "source": [
    "y_test.shape"
   ]
  },
  {
   "cell_type": "code",
   "execution_count": 47,
   "metadata": {},
   "outputs": [
    {
     "data": {
      "text/plain": [
       "(48,)"
      ]
     },
     "execution_count": 47,
     "metadata": {},
     "output_type": "execute_result"
    }
   ],
   "source": []
  },
  {
   "cell_type": "code",
   "execution_count": 49,
   "metadata": {},
   "outputs": [
    {
     "name": "stdout",
     "output_type": "stream",
     "text": [
      "Accuracy: 0.48\n",
      "Detail:\n",
      "              precision    recall  f1-score   support\n",
      "\n",
      "        arts       0.00      0.00      0.00         8\n",
      "     science       0.00      0.00      0.00         4\n",
      "     society       0.41      0.75      0.53        16\n",
      "      sports       0.61      0.55      0.58        20\n",
      "\n",
      "    accuracy                           0.48        48\n",
      "   macro avg       0.26      0.33      0.28        48\n",
      "weighted avg       0.39      0.48      0.42        48\n",
      "\n"
     ]
    }
   ],
   "source": [
    "from sklearn import metrics \n",
    "import pandas as pd\n",
    "classes = np.unique(y_test)\n",
    "y_test_array = pd.get_dummies(y_test, drop_first=False).values\n",
    "    \n",
    "## Accuracy, Precision, Recall\n",
    "accuracy = metrics.accuracy_score(list(y_test), list(predicted))\n",
    "# auc = metrics.roc_auc_score(y_test_array, predicted_prob, multi_class=\"ovr\")\n",
    "print(\"Accuracy:\",  round(accuracy,2))\n",
    "# print(\"Auc:\", round(auc,2))\n",
    "print(\"Detail:\")\n",
    "print(metrics.classification_report(y_test, predicted))"
   ]
  }
 ],
 "metadata": {
  "kernelspec": {
   "display_name": "Python 3",
   "language": "python",
   "name": "python3"
  },
  "language_info": {
   "codemirror_mode": {
    "name": "ipython",
    "version": 3
   },
   "file_extension": ".py",
   "mimetype": "text/x-python",
   "name": "python",
   "nbconvert_exporter": "python",
   "pygments_lexer": "ipython3",
   "version": "3.7.9"
  }
 },
 "nbformat": 4,
 "nbformat_minor": 4
}
