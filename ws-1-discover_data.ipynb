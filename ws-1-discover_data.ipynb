{
 "cells": [
  {
   "cell_type": "code",
   "execution_count": 1,
   "metadata": {},
   "outputs": [],
   "source": [
    "from tqdm.notebook import tqdm\n",
    "import pandas as pd\n",
    "import pickle"
   ]
  },
  {
   "cell_type": "code",
   "execution_count": 27,
   "metadata": {},
   "outputs": [],
   "source": [
    "f = open(\"./source/dmoz_domain_category.tab\")\n"
   ]
  },
  {
   "cell_type": "code",
   "execution_count": 28,
   "metadata": {},
   "outputs": [],
   "source": [
    "dmoz_map = {\n",
    "    \"domain\": [],\n",
    "    \"category\": []\n",
    "}\n",
    "\n",
    "for l in f:\n",
    "    read_list = l.strip().split(\"\\t\")\n",
    "    if read_list[0][1:-1] == 'domain':\n",
    "        continue\n",
    "    dmoz_map['domain'].append(read_list[0][1:-1])\n",
    "    dmoz_map['category'].append(read_list[1][1:-1])"
   ]
  },
  {
   "cell_type": "code",
   "execution_count": 29,
   "metadata": {},
   "outputs": [],
   "source": [
    "dmoz_df = pd.DataFrame.from_dict(dmoz_map)"
   ]
  },
  {
   "cell_type": "code",
   "execution_count": 39,
   "metadata": {},
   "outputs": [
    {
     "data": {
      "text/plain": [
       "(2488259, 2)"
      ]
     },
     "execution_count": 39,
     "metadata": {},
     "output_type": "execute_result"
    }
   ],
   "source": [
    "dmoz_df.shape"
   ]
  },
  {
   "cell_type": "code",
   "execution_count": 53,
   "metadata": {},
   "outputs": [
    {
     "data": {
      "text/html": [
       "<div>\n",
       "<style scoped>\n",
       "    .dataframe tbody tr th:only-of-type {\n",
       "        vertical-align: middle;\n",
       "    }\n",
       "\n",
       "    .dataframe tbody tr th {\n",
       "        vertical-align: top;\n",
       "    }\n",
       "\n",
       "    .dataframe thead th {\n",
       "        text-align: right;\n",
       "    }\n",
       "</style>\n",
       "<table border=\"1\" class=\"dataframe\">\n",
       "  <thead>\n",
       "    <tr style=\"text-align: right;\">\n",
       "      <th></th>\n",
       "      <th>domain</th>\n",
       "      <th>category</th>\n",
       "    </tr>\n",
       "  </thead>\n",
       "  <tbody>\n",
       "    <tr>\n",
       "      <th>0</th>\n",
       "      <td>sdcastroverde.com</td>\n",
       "      <td>Top/World/Galego/regional/Galicia/Lugo/municip...</td>\n",
       "    </tr>\n",
       "    <tr>\n",
       "      <th>1</th>\n",
       "      <td>www.232analyzer.com</td>\n",
       "      <td>Top/Computers/Hardware/Test_Equipment/Analyzers</td>\n",
       "    </tr>\n",
       "    <tr>\n",
       "      <th>2</th>\n",
       "      <td>zschachwitz-tischtennis.de</td>\n",
       "      <td>Top/World/Deutsch/Sport/ball_Sports/table_tenn...</td>\n",
       "    </tr>\n",
       "    <tr>\n",
       "      <th>3</th>\n",
       "      <td>www.penguin.cz</td>\n",
       "      <td>Top/World/Česky/Computers/Software/Operating_s...</td>\n",
       "    </tr>\n",
       "    <tr>\n",
       "      <th>4</th>\n",
       "      <td>www.cs-interiors.co.uk</td>\n",
       "      <td>Top/Business/Construction_and_Maintenance/Mate...</td>\n",
       "    </tr>\n",
       "  </tbody>\n",
       "</table>\n",
       "</div>"
      ],
      "text/plain": [
       "                       domain  \\\n",
       "0           sdcastroverde.com   \n",
       "1         www.232analyzer.com   \n",
       "2  zschachwitz-tischtennis.de   \n",
       "3              www.penguin.cz   \n",
       "4      www.cs-interiors.co.uk   \n",
       "\n",
       "                                            category  \n",
       "0  Top/World/Galego/regional/Galicia/Lugo/municip...  \n",
       "1    Top/Computers/Hardware/Test_Equipment/Analyzers  \n",
       "2  Top/World/Deutsch/Sport/ball_Sports/table_tenn...  \n",
       "3  Top/World/Česky/Computers/Software/Operating_s...  \n",
       "4  Top/Business/Construction_and_Maintenance/Mate...  "
      ]
     },
     "execution_count": 53,
     "metadata": {},
     "output_type": "execute_result"
    }
   ],
   "source": [
    "dmoz_df.head()"
   ]
  },
  {
   "cell_type": "code",
   "execution_count": 33,
   "metadata": {},
   "outputs": [],
   "source": [
    "with open('./source/dmoz_df.pickle', 'wb') as handle:\n",
    "    pickle.dump(dmoz_df, handle)"
   ]
  },
  {
   "cell_type": "code",
   "execution_count": 43,
   "metadata": {},
   "outputs": [],
   "source": [
    "new_f = open(\"./source/parsed-new.csv\")\n",
    "\n",
    "parsed_new_map = {\n",
    "    \"domain\": [],\n",
    "    \"category\": []\n",
    "}\n",
    "\n",
    "for l in new_f:\n",
    "    read_list = l.strip().split(\",\")\n",
    "    \n",
    "    parsed_new_map['domain'].append(read_list[0])\n",
    "    parsed_new_map['category'].append(read_list[1])\n",
    "    \n",
    "parsed_new_df = pd.DataFrame.from_dict(parsed_new_map)"
   ]
  },
  {
   "cell_type": "code",
   "execution_count": 46,
   "metadata": {},
   "outputs": [],
   "source": [
    "with open('./source/parsed_new_df.pickle', 'wb') as handle:\n",
    "    pickle.dump(parsed_new_df, handle)"
   ]
  },
  {
   "cell_type": "code",
   "execution_count": 2,
   "metadata": {},
   "outputs": [
    {
     "data": {
      "text/plain": [
       "(2340768, 2)"
      ]
     },
     "execution_count": 2,
     "metadata": {},
     "output_type": "execute_result"
    }
   ],
   "source": [
    "with open('./source/parsed_new_df.pickle', 'rb') as handle:\n",
    "    parsed_new_df = pickle.load(handle)\n",
    "parsed_new_df.shape"
   ]
  },
  {
   "cell_type": "code",
   "execution_count": 3,
   "metadata": {},
   "outputs": [
    {
     "data": {
      "text/html": [
       "<div>\n",
       "<style scoped>\n",
       "    .dataframe tbody tr th:only-of-type {\n",
       "        vertical-align: middle;\n",
       "    }\n",
       "\n",
       "    .dataframe tbody tr th {\n",
       "        vertical-align: top;\n",
       "    }\n",
       "\n",
       "    .dataframe thead th {\n",
       "        text-align: right;\n",
       "    }\n",
       "</style>\n",
       "<table border=\"1\" class=\"dataframe\">\n",
       "  <thead>\n",
       "    <tr style=\"text-align: right;\">\n",
       "      <th></th>\n",
       "      <th>domain</th>\n",
       "      <th>category</th>\n",
       "    </tr>\n",
       "  </thead>\n",
       "  <tbody>\n",
       "    <tr>\n",
       "      <th>0</th>\n",
       "      <td>hotel-im-kaiserpark.de</td>\n",
       "      <td>Top/World/Deutsch/Regional/Europa/Deutschland/...</td>\n",
       "    </tr>\n",
       "    <tr>\n",
       "      <th>1</th>\n",
       "      <td>sdcastroverde.com</td>\n",
       "      <td>Top/World/Galego/Rexional/Galicia/Lugo/Concell...</td>\n",
       "    </tr>\n",
       "    <tr>\n",
       "      <th>2</th>\n",
       "      <td>conten.net</td>\n",
       "      <td>Top/World/Español/Regional/Europa/España/Comun...</td>\n",
       "    </tr>\n",
       "    <tr>\n",
       "      <th>3</th>\n",
       "      <td>coachs.net</td>\n",
       "      <td>Top/Regional/North_America/United_States/Georg...</td>\n",
       "    </tr>\n",
       "    <tr>\n",
       "      <th>4</th>\n",
       "      <td>cambridgemachinery.com</td>\n",
       "      <td>Top/Business/Industrial_Goods_and_Services/Mac...</td>\n",
       "    </tr>\n",
       "  </tbody>\n",
       "</table>\n",
       "</div>"
      ],
      "text/plain": [
       "                   domain                                           category\n",
       "0  hotel-im-kaiserpark.de  Top/World/Deutsch/Regional/Europa/Deutschland/...\n",
       "1       sdcastroverde.com  Top/World/Galego/Rexional/Galicia/Lugo/Concell...\n",
       "2              conten.net  Top/World/Español/Regional/Europa/España/Comun...\n",
       "3              coachs.net  Top/Regional/North_America/United_States/Georg...\n",
       "4  cambridgemachinery.com  Top/Business/Industrial_Goods_and_Services/Mac..."
      ]
     },
     "execution_count": 3,
     "metadata": {},
     "output_type": "execute_result"
    }
   ],
   "source": [
    "parsed_new_df.head()"
   ]
  },
  {
   "cell_type": "code",
   "execution_count": 49,
   "metadata": {},
   "outputs": [],
   "source": [
    "subdomain_f = open(\"./source/parsed-subdomain.csv\")\n",
    "\n",
    "parsed_subdomain_map = {\n",
    "    \"domain\": [],\n",
    "    \"category\": []\n",
    "}\n",
    "\n",
    "for l in subdomain_f:\n",
    "    read_list = l.strip().split(\",\")\n",
    "    \n",
    "    parsed_subdomain_map['domain'].append(read_list[0])\n",
    "    parsed_subdomain_map['category'].append(read_list[1])\n",
    "    \n",
    "parsed_subdomain_df = pd.DataFrame.from_dict(parsed_subdomain_map)"
   ]
  },
  {
   "cell_type": "code",
   "execution_count": 51,
   "metadata": {},
   "outputs": [],
   "source": [
    "with open('./source/parsed_subdomain_df.pickle', 'wb') as handle:\n",
    "    pickle.dump(parsed_subdomain_df, handle)"
   ]
  },
  {
   "cell_type": "code",
   "execution_count": 4,
   "metadata": {},
   "outputs": [
    {
     "data": {
      "text/plain": [
       "(2599593, 2)"
      ]
     },
     "execution_count": 4,
     "metadata": {},
     "output_type": "execute_result"
    }
   ],
   "source": [
    "with open('./source/parsed_subdomain_df.pickle', 'rb') as handle:\n",
    "    parsed_subdomain_df = pickle.load(handle)\n",
    "parsed_subdomain_df.shape"
   ]
  },
  {
   "cell_type": "code",
   "execution_count": 5,
   "metadata": {},
   "outputs": [
    {
     "data": {
      "text/html": [
       "<div>\n",
       "<style scoped>\n",
       "    .dataframe tbody tr th:only-of-type {\n",
       "        vertical-align: middle;\n",
       "    }\n",
       "\n",
       "    .dataframe tbody tr th {\n",
       "        vertical-align: top;\n",
       "    }\n",
       "\n",
       "    .dataframe thead th {\n",
       "        text-align: right;\n",
       "    }\n",
       "</style>\n",
       "<table border=\"1\" class=\"dataframe\">\n",
       "  <thead>\n",
       "    <tr style=\"text-align: right;\">\n",
       "      <th></th>\n",
       "      <th>domain</th>\n",
       "      <th>category</th>\n",
       "    </tr>\n",
       "  </thead>\n",
       "  <tbody>\n",
       "    <tr>\n",
       "      <th>0</th>\n",
       "      <td>www.gemeasurement.com</td>\n",
       "      <td>Top/Business/Environment/Noise_and_Vibration_C...</td>\n",
       "    </tr>\n",
       "    <tr>\n",
       "      <th>1</th>\n",
       "      <td>.hagh.net</td>\n",
       "      <td>Top/World/Deutsch/Regional/Europa/Deutschland/...</td>\n",
       "    </tr>\n",
       "    <tr>\n",
       "      <th>2</th>\n",
       "      <td>www.delasletrashotel.com</td>\n",
       "      <td>Top/World/Español/Regional/Europa/España/Comun...</td>\n",
       "    </tr>\n",
       "    <tr>\n",
       "      <th>3</th>\n",
       "      <td>www.penguin.cz</td>\n",
       "      <td>Top/World/Česky/Počítače/Software/Operační_sys...</td>\n",
       "    </tr>\n",
       "    <tr>\n",
       "      <th>4</th>\n",
       "      <td>www.cs-interiors.co.uk</td>\n",
       "      <td>\"Top/Business/Construction_and_Maintenance/Mat...</td>\n",
       "    </tr>\n",
       "  </tbody>\n",
       "</table>\n",
       "</div>"
      ],
      "text/plain": [
       "                     domain                                           category\n",
       "0     www.gemeasurement.com  Top/Business/Environment/Noise_and_Vibration_C...\n",
       "1                 .hagh.net  Top/World/Deutsch/Regional/Europa/Deutschland/...\n",
       "2  www.delasletrashotel.com  Top/World/Español/Regional/Europa/España/Comun...\n",
       "3            www.penguin.cz  Top/World/Česky/Počítače/Software/Operační_sys...\n",
       "4    www.cs-interiors.co.uk  \"Top/Business/Construction_and_Maintenance/Mat..."
      ]
     },
     "execution_count": 5,
     "metadata": {},
     "output_type": "execute_result"
    }
   ],
   "source": [
    "parsed_subdomain_df.head()"
   ]
  },
  {
   "cell_type": "code",
   "execution_count": 56,
   "metadata": {},
   "outputs": [
    {
     "data": {
      "text/plain": [
       "array(['Top/Business/Environment/Noise_and_Vibration_Control/Vibration',\n",
       "       'Top/World/Deutsch/Regional/Europa/Deutschland/Rheinland-Pfalz/Landkreise/Bad_Dürkheim/Städte_und_Gemeinden/Haßloch/Bildung',\n",
       "       'Top/World/Español/Regional/Europa/España/Comunidades_Autónomas/Comunidad_de_Madrid/Municipios/Madrid/Viajes_y_turismo/Alojamiento/Hoteles',\n",
       "       ...,\n",
       "       'Top/Regional/North_America/United_States/Texas/Localities/R/Rio_Vista',\n",
       "       'Top/World/Italiano/Regionale/Europa/Germania/Nord_Reno_-_Vestfalia/Colonia',\n",
       "       'Top/World/Česky/Státy_a_regiony/Evropa/Česká_republika/Kraje/Ústecký/Jirkov'],\n",
       "      dtype=object)"
      ]
     },
     "execution_count": 56,
     "metadata": {},
     "output_type": "execute_result"
    }
   ],
   "source": [
    "parsed_subdomain_df['category'].unique()"
   ]
  },
  {
   "cell_type": "markdown",
   "metadata": {},
   "source": [
    "Suggestions remove work/other country\n",
    "Extract the second term after Top"
   ]
  }
 ],
 "metadata": {
  "kernelspec": {
   "display_name": "Python 3",
   "language": "python",
   "name": "python3"
  },
  "language_info": {
   "codemirror_mode": {
    "name": "ipython",
    "version": 3
   },
   "file_extension": ".py",
   "mimetype": "text/x-python",
   "name": "python",
   "nbconvert_exporter": "python",
   "pygments_lexer": "ipython3",
   "version": "3.7.9"
  }
 },
 "nbformat": 4,
 "nbformat_minor": 4
}
