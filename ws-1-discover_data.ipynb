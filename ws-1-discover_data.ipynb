{
 "cells": [
  {
   "cell_type": "code",
   "execution_count": 1,
   "metadata": {},
   "outputs": [],
   "source": [
    "from tqdm.notebook import tqdm\n",
    "import pandas as pd\n",
    "import pickle"
   ]
  },
  {
   "cell_type": "code",
   "execution_count": 2,
   "metadata": {},
   "outputs": [
    {
     "ename": "FileNotFoundError",
     "evalue": "[Errno 2] No such file or directory: './source/dmoz_domain_category.tab'",
     "output_type": "error",
     "traceback": [
      "\u001b[1;31m---------------------------------------------------------------------------\u001b[0m",
      "\u001b[1;31mFileNotFoundError\u001b[0m                         Traceback (most recent call last)",
      "\u001b[1;32m<ipython-input-2-5bc0307467c2>\u001b[0m in \u001b[0;36m<module>\u001b[1;34m\u001b[0m\n\u001b[1;32m----> 1\u001b[1;33m \u001b[0mf\u001b[0m \u001b[1;33m=\u001b[0m \u001b[0mopen\u001b[0m\u001b[1;33m(\u001b[0m\u001b[1;34m\"./source/dmoz_domain_category.tab\"\u001b[0m\u001b[1;33m)\u001b[0m\u001b[1;33m\u001b[0m\u001b[1;33m\u001b[0m\u001b[0m\n\u001b[0m",
      "\u001b[1;31mFileNotFoundError\u001b[0m: [Errno 2] No such file or directory: './source/dmoz_domain_category.tab'"
     ]
    }
   ],
   "source": [
    "f = open(\"./source/dmoz_domain_category.tab\")\n"
   ]
  },
  {
   "cell_type": "code",
   "execution_count": null,
   "metadata": {},
   "outputs": [],
   "source": [
    "dmoz_map = {\n",
    "    \"domain\": [],\n",
    "    \"category\": []\n",
    "}\n",
    "\n",
    "for l in f:\n",
    "    read_list = l.strip().split(\"\\t\")\n",
    "    if read_list[0][1:-1] == 'domain':\n",
    "        continue\n",
    "    dmoz_map['domain'].append(read_list[0][1:-1])\n",
    "    dmoz_map['category'].append(read_list[1][1:-1])"
   ]
  },
  {
   "cell_type": "code",
   "execution_count": null,
   "metadata": {},
   "outputs": [],
   "source": [
    "dmoz_df = pd.DataFrame.from_dict(dmoz_map)"
   ]
  },
  {
   "cell_type": "code",
   "execution_count": null,
   "metadata": {},
   "outputs": [],
   "source": [
    "dmoz_df.shape"
   ]
  },
  {
   "cell_type": "code",
   "execution_count": null,
   "metadata": {},
   "outputs": [],
   "source": [
    "dmoz_df.head()"
   ]
  },
  {
   "cell_type": "code",
   "execution_count": null,
   "metadata": {},
   "outputs": [],
   "source": [
    "with open('./source/dmoz_df.pickle', 'wb') as handle:\n",
    "    pickle.dump(dmoz_df, handle)"
   ]
  },
  {
   "cell_type": "code",
   "execution_count": null,
   "metadata": {},
   "outputs": [],
   "source": [
    "new_f = open(\"./source/parsed-new.csv\")\n",
    "\n",
    "parsed_new_map = {\n",
    "    \"domain\": [],\n",
    "    \"category\": []\n",
    "}\n",
    "\n",
    "for l in new_f:\n",
    "    read_list = l.strip().split(\",\")\n",
    "    \n",
    "    parsed_new_map['domain'].append(read_list[0])\n",
    "    parsed_new_map['category'].append(read_list[1])\n",
    "    \n",
    "parsed_new_df = pd.DataFrame.from_dict(parsed_new_map)"
   ]
  },
  {
   "cell_type": "code",
   "execution_count": null,
   "metadata": {},
   "outputs": [],
   "source": [
    "with open('./source/parsed_new_df.pickle', 'wb') as handle:\n",
    "    pickle.dump(parsed_new_df, handle)"
   ]
  },
  {
   "cell_type": "code",
   "execution_count": null,
   "metadata": {},
   "outputs": [],
   "source": [
    "with open('./source/parsed_new_df.pickle', 'rb') as handle:\n",
    "    parsed_new_df = pickle.load(handle)\n",
    "parsed_new_df.shape"
   ]
  },
  {
   "cell_type": "code",
   "execution_count": null,
   "metadata": {},
   "outputs": [],
   "source": [
    "parsed_new_df.head()"
   ]
  },
  {
   "cell_type": "code",
   "execution_count": null,
   "metadata": {},
   "outputs": [],
   "source": [
    "subdomain_f = open(\"./source/parsed-subdomain.csv\")\n",
    "\n",
    "parsed_subdomain_map = {\n",
    "    \"domain\": [],\n",
    "    \"category\": []\n",
    "}\n",
    "\n",
    "for l in subdomain_f:\n",
    "    read_list = l.strip().split(\",\")\n",
    "    \n",
    "    parsed_subdomain_map['domain'].append(read_list[0])\n",
    "    parsed_subdomain_map['category'].append(read_list[1])\n",
    "    \n",
    "parsed_subdomain_df = pd.DataFrame.from_dict(parsed_subdomain_map)"
   ]
  },
  {
   "cell_type": "code",
   "execution_count": null,
   "metadata": {},
   "outputs": [],
   "source": [
    "with open('./source/parsed_subdomain_df.pickle', 'wb') as handle:\n",
    "    pickle.dump(parsed_subdomain_df, handle)"
   ]
  },
  {
   "cell_type": "code",
   "execution_count": null,
   "metadata": {},
   "outputs": [],
   "source": [
    "with open('./source/parsed_subdomain_df.pickle', 'rb') as handle:\n",
    "    parsed_subdomain_df = pickle.load(handle)\n",
    "parsed_subdomain_df.shape"
   ]
  },
  {
   "cell_type": "code",
   "execution_count": null,
   "metadata": {},
   "outputs": [],
   "source": [
    "parsed_subdomain_df.head()"
   ]
  },
  {
   "cell_type": "code",
   "execution_count": null,
   "metadata": {},
   "outputs": [],
   "source": [
    "parsed_subdomain_df['category'].unique()"
   ]
  },
  {
   "cell_type": "markdown",
   "metadata": {},
   "source": [
    "Suggestions remove work/other country\n",
    "Extract the second term after Top"
   ]
  }
 ],
 "metadata": {
  "kernelspec": {
   "display_name": "Python 3",
   "language": "python",
   "name": "python3"
  },
  "language_info": {
   "codemirror_mode": {
    "name": "ipython",
    "version": 3
   },
   "file_extension": ".py",
   "mimetype": "text/x-python",
   "name": "python",
   "nbconvert_exporter": "python",
   "pygments_lexer": "ipython3",
   "version": "3.8.3"
  }
 },
 "nbformat": 4,
 "nbformat_minor": 4
}
