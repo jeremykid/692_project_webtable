{
 "cells": [
  {
   "cell_type": "code",
   "execution_count": 16,
   "metadata": {},
   "outputs": [],
   "source": [
    "from tqdm.notebook import tqdm\n",
    "import pandas as pd\n",
    "import pickle\n",
    "import numpy as np"
   ]
  },
  {
   "cell_type": "code",
   "execution_count": 7,
   "metadata": {},
   "outputs": [],
   "source": [
    "f = open(\"./source/dmoz_domain_category.tab\")"
   ]
  },
  {
   "cell_type": "code",
   "execution_count": 8,
   "metadata": {},
   "outputs": [],
   "source": [
    "dmoz_map = {\n",
    "    \"domain\": [],\n",
    "    \"category\": []\n",
    "}\n",
    "\n",
    "for l in f:\n",
    "    read_list = l.strip().split(\"\\t\")\n",
    "    if read_list[0][1:-1] == 'domain':\n",
    "        continue\n",
    "    dmoz_map['domain'].append(read_list[0][1:-1])\n",
    "    dmoz_map['category'].append(read_list[1][1:-1])"
   ]
  },
  {
   "cell_type": "code",
   "execution_count": 9,
   "metadata": {},
   "outputs": [],
   "source": [
    "dmoz_df = pd.DataFrame.from_dict(dmoz_map)"
   ]
  },
  {
   "cell_type": "code",
   "execution_count": 10,
   "metadata": {},
   "outputs": [],
   "source": [
    "dmoz_list = []\n",
    "for i in dmoz_df['category'].unique():\n",
    "    dmoz_list.append(i.split('/'))"
   ]
  },
  {
   "cell_type": "code",
   "execution_count": 43,
   "metadata": {},
   "outputs": [],
   "source": [
    "labels = ['Home', 'Society', 'Business', 'Arts', 'Recreation', 'Health',\n",
    " 'News', 'Computers', 'Sports', 'Games', 'Reference', 'Science', 'Shopping']\n",
    "\n",
    "label_dict = {}\n",
    "for label in labels:\n",
    "    label_dict[label] = []"
   ]
  },
  {
   "cell_type": "code",
   "execution_count": 44,
   "metadata": {},
   "outputs": [],
   "source": [
    "for i in range(len(dmoz_list)):\n",
    "    if dmoz_list[i][1] in labels:\n",
    "        label_dict[dmoz_list[i][1]].append(i)"
   ]
  },
  {
   "cell_type": "code",
   "execution_count": 41,
   "metadata": {},
   "outputs": [],
   "source": [
    "with open('label_dict.pickle', 'wb') as handle:\n",
    "    pickle.dump(label_dict, handle)"
   ]
  },
  {
   "cell_type": "code",
   "execution_count": 11,
   "metadata": {},
   "outputs": [],
   "source": [
    "with open('label_dict.pickle', 'rb') as handle:\n",
    "    label_dict = pickle.load(handle)"
   ]
  },
  {
   "cell_type": "code",
   "execution_count": 42,
   "metadata": {},
   "outputs": [],
   "source": [
    "dmoz_df['label'] = np.nan\n",
    "for key, value in label_dict.items():\n",
    "    dmoz_df.loc[value, 'label'] = key\n",
    "    "
   ]
  },
  {
   "cell_type": "code",
   "execution_count": 47,
   "metadata": {},
   "outputs": [],
   "source": [
    "with open('./source/domz_df.pickle', 'wb') as handle:\n",
    "    pickle.dump(dmoz_df, handle)"
   ]
  },
  {
   "cell_type": "code",
   "execution_count": 10,
   "metadata": {},
   "outputs": [],
   "source": [
    "category = []\n",
    "for i in dmoz_list:\n",
    "    category.append(i[1])"
   ]
  },
  {
   "cell_type": "code",
   "execution_count": 25,
   "metadata": {},
   "outputs": [
    {
     "name": "stdout",
     "output_type": "stream",
     "text": [
      "Home : 1864\n",
      "Society : 29762\n",
      "Business : 26299\n",
      "Arts : 21584\n",
      "Recreation : 13445\n",
      "Health : 7529\n",
      "News : 1738\n",
      "Computers : 9956\n",
      "Sports : 13112\n",
      "Games : 3478\n",
      "Reference : 11506\n",
      "Science : 8683\n",
      "Shopping : 9222\n"
     ]
    }
   ],
   "source": [
    "x_axis = []\n",
    "cate_number = []\n",
    "for cate in ['Home',\n",
    " 'Society',\n",
    " 'Business',\n",
    " 'Arts',\n",
    " 'Recreation',\n",
    " 'Health',\n",
    " 'News',\n",
    " 'Computers',\n",
    " 'Sports',\n",
    " 'Games',\n",
    " 'Reference',\n",
    " 'Science',\n",
    " 'Shopping']:\n",
    "    print (cate,':',category.count(cate))\n",
    "    x_axis.append(cate)\n",
    "    cate_number.append(category.count(cate))"
   ]
  },
  {
   "cell_type": "code",
   "execution_count": 40,
   "metadata": {},
   "outputs": [
    {
     "data": {
      "image/png": "[encoded data removed]",
      "text/plain": [
       "<Figure size 864x648 with 1 Axes>"
      ]
     },
     "metadata": {
      "needs_background": "light"
     },
     "output_type": "display_data"
    }
   ],
   "source": [
    "import matplotlib.pyplot as plt\n",
    "%matplotlib inline\n",
    "# plt.style.use('ggplot')\n",
    "\n",
    "x = x_axis\n",
    "# energy = cate_number\n",
    "\n",
    "x_pos = [i for i, _ in enumerate(x)]\n",
    "plt.figure(figsize=(12,9))\n",
    "\n",
    "plt.bar(x_pos, cate_number, color='b')\n",
    "plt.xlabel(\"Energy Source\")\n",
    "plt.ylabel(\"Energy Output (GJ)\")\n",
    "plt.title(\"Energy output from various fuel sources\")\n",
    "plt.yscale('log')\n",
    "plt.xticks(x_pos, x)\n",
    "plt.show()"
   ]
  },
  {
   "cell_type": "code",
   "execution_count": 61,
   "metadata": {},
   "outputs": [],
   "source": [
    "import os\n",
    "import sys\n",
    "import subprocess\n",
    "import urllib.request\n",
    "\n",
    "def extractor(site):\n",
    "    '''Extract tables from a single or a list of urls or html filenames passed.'''\n",
    "    header = {\"User-Agent\": \"Mozilla/5.0 (X11; Linux x86_64) AppleWebKit/537.36 (KHTML, like Gecko) Chrome/50.0.2661.75 Safari/537.36\",\n",
    "      \"X-Requested-With\": \"XMLHttpRequest\"}\n",
    "\n",
    "    if len(site.split('//'))>1:\n",
    "        fname = site.split('//')[1]\n",
    "    else:\n",
    "        fname = site\n",
    "        site = 'http://'+site\n",
    "\n",
    "    print('Extracting tables from: ' + site)\n",
    "\n",
    "    try:\n",
    "        req=urllib.request.Request(site, headers=header)\n",
    "        content = urllib.request.urlopen(req).read()\n",
    "        df1= pd.read_html(content)\n",
    "    except Exception as e:\n",
    "        df1=[]\n",
    "        print(e)\n",
    "\n",
    "    return df1\n"
   ]
  },
  {
   "cell_type": "code",
   "execution_count": 52,
   "metadata": {},
   "outputs": [
    {
     "data": {
      "text/html": [
       "<div>\n",
       "<style scoped>\n",
       "    .dataframe tbody tr th:only-of-type {\n",
       "        vertical-align: middle;\n",
       "    }\n",
       "\n",
       "    .dataframe tbody tr th {\n",
       "        vertical-align: top;\n",
       "    }\n",
       "\n",
       "    .dataframe thead th {\n",
       "        text-align: right;\n",
       "    }\n",
       "</style>\n",
       "<table border=\"1\" class=\"dataframe\">\n",
       "  <thead>\n",
       "    <tr style=\"text-align: right;\">\n",
       "      <th></th>\n",
       "      <th>domain</th>\n",
       "      <th>category</th>\n",
       "      <th>label</th>\n",
       "    </tr>\n",
       "  </thead>\n",
       "  <tbody>\n",
       "    <tr>\n",
       "      <th>1</th>\n",
       "      <td>www.232analyzer.com</td>\n",
       "      <td>Top/Computers/Hardware/Test_Equipment/Analyzers</td>\n",
       "      <td>Computers</td>\n",
       "    </tr>\n",
       "    <tr>\n",
       "      <th>11</th>\n",
       "      <td>www.utahwebdesign.com</td>\n",
       "      <td>Top/Computers/Internet/Web_Design_and_Developm...</td>\n",
       "      <td>Computers</td>\n",
       "    </tr>\n",
       "    <tr>\n",
       "      <th>26</th>\n",
       "      <td>www.memtest86.com</td>\n",
       "      <td>Top/Computers/Software/Diagnostics</td>\n",
       "      <td>Computers</td>\n",
       "    </tr>\n",
       "    <tr>\n",
       "      <th>266</th>\n",
       "      <td>themebutler.com</td>\n",
       "      <td>Top/Computers/Internet/On_the_Web/Weblogs/Temp...</td>\n",
       "      <td>Computers</td>\n",
       "    </tr>\n",
       "    <tr>\n",
       "      <th>292</th>\n",
       "      <td>googlesystem.blogspot.com</td>\n",
       "      <td>Top/Computers/Companies/Google,_Inc./News_and_...</td>\n",
       "      <td>Computers</td>\n",
       "    </tr>\n",
       "    <tr>\n",
       "      <th>...</th>\n",
       "      <td>...</td>\n",
       "      <td>...</td>\n",
       "      <td>...</td>\n",
       "    </tr>\n",
       "    <tr>\n",
       "      <th>698581</th>\n",
       "      <td>www.x.org</td>\n",
       "      <td>Top/Computers/Software/Operating_Systems/Graph...</td>\n",
       "      <td>Computers</td>\n",
       "    </tr>\n",
       "    <tr>\n",
       "      <th>698587</th>\n",
       "      <td>www.atcopres.org</td>\n",
       "      <td>Top/Regional/North_America/United_States/New_J...</td>\n",
       "      <td>Computers</td>\n",
       "    </tr>\n",
       "    <tr>\n",
       "      <th>698653</th>\n",
       "      <td>www.warwickcrystal.co.uk</td>\n",
       "      <td>Top/Shopping/Gifts/Personalized/China,_Porcela...</td>\n",
       "      <td>Computers</td>\n",
       "    </tr>\n",
       "    <tr>\n",
       "      <th>698654</th>\n",
       "      <td>www.avon.co.jp</td>\n",
       "      <td>Top/World/Japanese/business/Products_and_servi...</td>\n",
       "      <td>Computers</td>\n",
       "    </tr>\n",
       "    <tr>\n",
       "      <th>698686</th>\n",
       "      <td>boluticaret.meb.k12.tr</td>\n",
       "      <td>Top/World/Türkçe/Local/Middle_East/Turkey/Regi...</td>\n",
       "      <td>Computers</td>\n",
       "    </tr>\n",
       "  </tbody>\n",
       "</table>\n",
       "<p>9956 rows × 3 columns</p>\n",
       "</div>"
      ],
      "text/plain": [
       "                           domain  \\\n",
       "1             www.232analyzer.com   \n",
       "11          www.utahwebdesign.com   \n",
       "26              www.memtest86.com   \n",
       "266               themebutler.com   \n",
       "292     googlesystem.blogspot.com   \n",
       "...                           ...   \n",
       "698581                  www.x.org   \n",
       "698587           www.atcopres.org   \n",
       "698653   www.warwickcrystal.co.uk   \n",
       "698654             www.avon.co.jp   \n",
       "698686     boluticaret.meb.k12.tr   \n",
       "\n",
       "                                                 category      label  \n",
       "1         Top/Computers/Hardware/Test_Equipment/Analyzers  Computers  \n",
       "11      Top/Computers/Internet/Web_Design_and_Developm...  Computers  \n",
       "26                     Top/Computers/Software/Diagnostics  Computers  \n",
       "266     Top/Computers/Internet/On_the_Web/Weblogs/Temp...  Computers  \n",
       "292     Top/Computers/Companies/Google,_Inc./News_and_...  Computers  \n",
       "...                                                   ...        ...  \n",
       "698581  Top/Computers/Software/Operating_Systems/Graph...  Computers  \n",
       "698587  Top/Regional/North_America/United_States/New_J...  Computers  \n",
       "698653  Top/Shopping/Gifts/Personalized/China,_Porcela...  Computers  \n",
       "698654  Top/World/Japanese/business/Products_and_servi...  Computers  \n",
       "698686  Top/World/Türkçe/Local/Middle_East/Turkey/Regi...  Computers  \n",
       "\n",
       "[9956 rows x 3 columns]"
      ]
     },
     "execution_count": 52,
     "metadata": {},
     "output_type": "execute_result"
    }
   ],
   "source": [
    "dmoz_df[dmoz_df['label'] == 'Computers']['']"
   ]
  },
  {
   "cell_type": "code",
   "execution_count": 63,
   "metadata": {},
   "outputs": [
    {
     "name": "stdout",
     "output_type": "stream",
     "text": [
      "Extracting tables from: https://en.m.wikipedia.org/wiki/League_of_Legends\n",
      "[   League of Legends                                League of Legends.1\n",
      "0                NaN                                                NaN\n",
      "1       Developer(s)                                         Riot Games\n",
      "2       Publisher(s)                            Riot GamesTencentGarena\n",
      "3        Director(s)            Andrei van RoonSteven SnowTravis George\n",
      "4        Producer(s)        Jessica NamJoe TungSteven SnowTravis George\n",
      "5        Designer(s)  Mark YetterRyan MirelesDavid CapurroChristina ...\n",
      "6          Artist(s)  Gem LimOscar MonteonDaniel KimYekaterina Boury...\n",
      "7          Writer(s)  Ariel LawrenceMatthew Garcia-DunnAnthony Reyno...\n",
      "8        Composer(s)            Christian LinkeToa DunnSebastien Najand\n",
      "9        Platform(s)                           Microsoft Windows, macOS\n",
      "10           Release                                   October 27, 2009\n",
      "11          Genre(s)                                               MOBA\n",
      "12           Mode(s)                                        Multiplayer,                                             Reception       Unnamed: 1\n",
      "0   Aggregate scoreAggregatorScoreMetacritic78/100...              NaN\n",
      "1                                     Aggregate score  Aggregate score\n",
      "2                                          Aggregator            Score\n",
      "3                                          Metacritic       78/100[92]\n",
      "4                                       Review scores    Review scores\n",
      "5                                         Publication            Score\n",
      "6                                             1Up.com           A-[93]\n",
      "7                                           Eurogamer         8/10[94]\n",
      "8                                      GameRevolution           B+[95]\n",
      "9                                             GameSpy             [96]\n",
      "10                                           GameZone         9/10[97]\n",
      "11                                                IGN       9.2/10[98],   Aggregate score               \n",
      "       Aggregator          Score\n",
      "0      Metacritic     78/100[92]\n",
      "1   Review scores  Review scores\n",
      "2     Publication          Score\n",
      "3         1Up.com         A-[93]\n",
      "4       Eurogamer       8/10[94]\n",
      "5  GameRevolution         B+[95]\n",
      "6         GameSpy           [96]\n",
      "7        GameZone       9/10[97]\n",
      "8             IGN     9.2/10[98],     Year                                    Awards  \\\n",
      "0   2010  1st Game Developers Online Choice Awards   \n",
      "1   2010               Golden Joystick Awards 2010   \n",
      "2   2011               Golden Joystick Awards 2011   \n",
      "3   2015                      The Game Awards 2015   \n",
      "4   2017                   2017 Teen Choice Awards   \n",
      "5   2017               Golden Joystick Awards 2017   \n",
      "6   2017                      The Game Awards 2017   \n",
      "7   2018                         45th Annie Awards   \n",
      "8   2018                   39th Sports Emmy Awards   \n",
      "9   2018               Golden Joystick Awards 2018   \n",
      "10  2018                      The Game Awards 2018   \n",
      "11  2018                     Gamers' Choice Awards   \n",
      "12  2018                     Gamers' Choice Awards   \n",
      "13  2018                     Gamers' Choice Awards   \n",
      "14  2018                     Gamers' Choice Awards   \n",
      "15  2018                     Gamers' Choice Awards   \n",
      "16  2018                     Gamers' Choice Awards   \n",
      "17  2019                        11th Shorty Awards   \n",
      "18  2019               Golden Joystick Awards 2019   \n",
      "19  2019           Hollywood Music in Media Awards   \n",
      "20  2019                      The Game Awards 2019   \n",
      "21  2019                      The Game Awards 2019   \n",
      "\n",
      "                                             Category     Result         Ref  \n",
      "0   Best Online Technology, Visual Arts, Game Desi...        Won       [110]  \n",
      "1                             Online Game of the Year        Won       [111]  \n",
      "2                              Best Free-to-Play Game        Won       [112]  \n",
      "3                      eSports Game of the Year Award  Nominated       [113]  \n",
      "4                                   Choice Video Game  Nominated       [114]  \n",
      "5                            eSports Game of the Year  Nominated       [115]  \n",
      "6                                   Best eSports Game  Nominated       [116]  \n",
      "7   Best Animated Television/Broadcast Commercial ...  Nominated       [117]  \n",
      "8   Outstanding Live Graphic Design (2017 League o...        Won       [118]  \n",
      "9                            eSports Game of the Year  Nominated  [119][120]  \n",
      "10                                  Best eSports Game  Nominated  [121][122]  \n",
      "11                                  Fan Favorite Game  Nominated       [123]  \n",
      "12  Fan Favorite eSports Moment (Cloud9's League o...  Nominated       [123]  \n",
      "13                          Fan Favorite eSports Game  Nominated       [123]  \n",
      "14  Fan Favorite eSports League Format (Championsh...  Nominated       [123]  \n",
      "15  Gaming Moment of the Year (Tyler1 returns to L...  Nominated       [123]  \n",
      "16  Fan Favorite eSport Event of the Year (League ...  Nominated       [123]  \n",
      "17                Best in Games (\"Pop/Stars\" by K/DA)        Won       [124]  \n",
      "18                           eSports Game of the Year  Nominated       [125]  \n",
      "19                        Original Score - Video Game  Nominated       [126]  \n",
      "20                                  Best eSports Game        Won  [127][128]  \n",
      "21  Best eSports Event (League of Legends World Ch...        Won  [127][128]  ,                                                    0\n",
      "0  Wikiquote has quotations related to: League of...,                                                    0\n",
      "0  Wikimedia Commons has media related to League ...]\n"
     ]
    }
   ],
   "source": [
    "\n",
    "url = 'https://en.m.wikipedia.org/wiki/League_of_Legends'\n",
    "df1 = extractor(url)"
   ]
  },
  {
   "cell_type": "code",
   "execution_count": 60,
   "metadata": {},
   "outputs": [
    {
     "data": {
      "text/html": [
       "<div>\n",
       "<style scoped>\n",
       "    .dataframe tbody tr th:only-of-type {\n",
       "        vertical-align: middle;\n",
       "    }\n",
       "\n",
       "    .dataframe tbody tr th {\n",
       "        vertical-align: top;\n",
       "    }\n",
       "\n",
       "    .dataframe thead tr th {\n",
       "        text-align: left;\n",
       "    }\n",
       "</style>\n",
       "<table border=\"1\" class=\"dataframe\">\n",
       "  <thead>\n",
       "    <tr>\n",
       "      <th></th>\n",
       "      <th colspan=\"2\" halign=\"left\">Aggregate score</th>\n",
       "    </tr>\n",
       "    <tr>\n",
       "      <th></th>\n",
       "      <th>Aggregator</th>\n",
       "      <th>Score</th>\n",
       "    </tr>\n",
       "  </thead>\n",
       "  <tbody>\n",
       "    <tr>\n",
       "      <th>0</th>\n",
       "      <td>Metacritic</td>\n",
       "      <td>78/100[92]</td>\n",
       "    </tr>\n",
       "    <tr>\n",
       "      <th>1</th>\n",
       "      <td>Review scores</td>\n",
       "      <td>Review scores</td>\n",
       "    </tr>\n",
       "    <tr>\n",
       "      <th>2</th>\n",
       "      <td>Publication</td>\n",
       "      <td>Score</td>\n",
       "    </tr>\n",
       "    <tr>\n",
       "      <th>3</th>\n",
       "      <td>1Up.com</td>\n",
       "      <td>A-[93]</td>\n",
       "    </tr>\n",
       "    <tr>\n",
       "      <th>4</th>\n",
       "      <td>Eurogamer</td>\n",
       "      <td>8/10[94]</td>\n",
       "    </tr>\n",
       "    <tr>\n",
       "      <th>5</th>\n",
       "      <td>GameRevolution</td>\n",
       "      <td>B+[95]</td>\n",
       "    </tr>\n",
       "    <tr>\n",
       "      <th>6</th>\n",
       "      <td>GameSpy</td>\n",
       "      <td>[96]</td>\n",
       "    </tr>\n",
       "    <tr>\n",
       "      <th>7</th>\n",
       "      <td>GameZone</td>\n",
       "      <td>9/10[97]</td>\n",
       "    </tr>\n",
       "    <tr>\n",
       "      <th>8</th>\n",
       "      <td>IGN</td>\n",
       "      <td>9.2/10[98]</td>\n",
       "    </tr>\n",
       "  </tbody>\n",
       "</table>\n",
       "</div>"
      ],
      "text/plain": [
       "  Aggregate score               \n",
       "       Aggregator          Score\n",
       "0      Metacritic     78/100[92]\n",
       "1   Review scores  Review scores\n",
       "2     Publication          Score\n",
       "3         1Up.com         A-[93]\n",
       "4       Eurogamer       8/10[94]\n",
       "5  GameRevolution         B+[95]\n",
       "6         GameSpy           [96]\n",
       "7        GameZone       9/10[97]\n",
       "8             IGN     9.2/10[98]"
      ]
     },
     "execution_count": 60,
     "metadata": {},
     "output_type": "execute_result"
    }
   ],
   "source": [
    "df1[2]"
   ]
  }
 ],
 "metadata": {
  "kernelspec": {
   "display_name": "Python 3",
   "language": "python",
   "name": "python3"
  },
  "language_info": {
   "codemirror_mode": {
    "name": "ipython",
    "version": 3
   },
   "file_extension": ".py",
   "mimetype": "text/x-python",
   "name": "python",
   "nbconvert_exporter": "python",
   "pygments_lexer": "ipython3",
   "version": "3.8.3"
  }
 },
 "nbformat": 4,
 "nbformat_minor": 4
}
