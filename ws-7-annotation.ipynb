{
 "cells": [
  {
   "cell_type": "code",
   "execution_count": 1,
   "metadata": {},
   "outputs": [],
   "source": [
    "import nltk as nl\n",
    "import pickle\n",
    "import pandas as pd"
   ]
  },
  {
   "cell_type": "code",
   "execution_count": 2,
   "metadata": {},
   "outputs": [],
   "source": [
    "with open('./source/data.pickle', 'rb') as handle:\n",
    "    data = pickle.load(handle)\n"
   ]
  },
  {
   "cell_type": "code",
   "execution_count": 556,
   "metadata": {},
   "outputs": [],
   "source": [
    "annotation_list = [1, 2, 3, 10, 11, 12, 39, 40, 42, 108,\n",
    " 123, 124, 131, 132, 136, 150, 151, 163,\n",
    " 168, 169, 170, 180, 181, 200, 204, 213,\n",
    " 222, 238, 241, 242, 243, 244, 245, 247,\n",
    " 248, 263, 266, 267, 278, 280, 281, 282,\n",
    " 285, 288, 326, 329, 340, 348, 349, 352,\n",
    " 353, 359, 368, 374, 381, 382, 384, 385,\n",
    " 386, 392, 396, 397, 398, 399, 400, 401,\n",
    " 411, 425, 426, 449, 450, 469, 470, 498,\n",
    " 499, 500, 501, 503, 508, 509, 511, 512,\n",
    " 513, 538, 540, 541, 542, 543, 566, 567,\n",
    " 569, 577, 578, 579, 580, 581, 585, 586,\n",
    " 602, 604, 605, 621, 622, 623, 624, 625,\n",
    " 631, 660, 667, 679, 689, 690, 691, 697,\n",
    " 698, 701, 702, 705]\n",
    " "
   ]
  },
  {
   "cell_type": "code",
   "execution_count": null,
   "metadata": {},
   "outputs": [],
   "source": [
    "annotation_data = []\n",
    "for i in annotation_list:\n",
    "    annotation_data.append(data[i])"
   ]
  },
  {
   "cell_type": "code",
   "execution_count": 558,
   "metadata": {},
   "outputs": [],
   "source": [
    "with open('./source/annotation_data.pickle', 'wb') as handle:\n",
    "    pickle.dump(annotation_data, handle)"
   ]
  },
  {
   "cell_type": "code",
   "execution_count": 567,
   "metadata": {},
   "outputs": [
    {
     "data": {
      "text/plain": [
       "Int64Index([0, 1, 2], dtype='int64')"
      ]
     },
     "execution_count": 567,
     "metadata": {},
     "output_type": "execute_result"
    }
   ],
   "source": [
    "annotation_data[0][2].columns"
   ]
  },
  {
   "cell_type": "code",
   "execution_count": 566,
   "metadata": {},
   "outputs": [
    {
     "data": {
      "text/plain": [
       "array([['Paintballs Valken Kilo Cal .50 4000 Und)*Envío Gratis24/48Horas42,00\\x80',\n",
       "        'PACK PROTECCIÓN NIÑOS (Segunda Mano) Envio Gratis)*25,00\\x80',\n",
       "        'Super Pack Valken Cobra Cal.0.50(Aire)Segunda Mano-Envío Gratis*120,00\\x80'],\n",
       "       ['Quick Disconnet Rosca Macho8,00\\x80', 'Sup Pump HD28,00\\x80',\n",
       "        'Paleta Sup Paddle Alu.28,00\\x80'],\n",
       "       ['Inflable Sup Board Flow 10259,00\\x80',\n",
       "        'Casco Outdoor +29,00\\x80',\n",
       "        'Trolley Basic Transporte kayak56,00\\x80'],\n",
       "       ['Paleta de Fibra58,00\\x80', 'Chaleco salvavidas ozono28,00\\x80',\n",
       "        'Paleta Tour 2+29,00\\x80'],\n",
       "       ['Kayak Touring One280,00\\x80', 'Paleta de Kayak25,00\\x80',\n",
       "        'kayak Skimmer Forest - PESCA710,00\\x80']], dtype=object)"
      ]
     },
     "execution_count": 566,
     "metadata": {},
     "output_type": "execute_result"
    }
   ],
   "source": [
    "annotation_data[0][2].values"
   ]
  }
 ],
 "metadata": {
  "kernelspec": {
   "display_name": "Python 3",
   "language": "python",
   "name": "python3"
  },
  "language_info": {
   "codemirror_mode": {
    "name": "ipython",
    "version": 3
   },
   "file_extension": ".py",
   "mimetype": "text/x-python",
   "name": "python",
   "nbconvert_exporter": "python",
   "pygments_lexer": "ipython3",
   "version": "3.7.9"
  }
 },
 "nbformat": 4,
 "nbformat_minor": 4
}
