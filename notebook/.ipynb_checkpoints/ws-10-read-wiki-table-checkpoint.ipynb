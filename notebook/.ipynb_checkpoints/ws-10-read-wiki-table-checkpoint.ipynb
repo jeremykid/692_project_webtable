{
 "cells": [
  {
   "cell_type": "code",
   "execution_count": 45,
   "metadata": {},
   "outputs": [],
   "source": [
    "from tqdm.notebook import tqdm\n",
    "import pandas as pd\n",
    "import pickle\n",
    "import numpy as np\n",
    "\n",
    "# wiki_data"
   ]
  },
  {
   "cell_type": "code",
   "execution_count": 20,
   "metadata": {},
   "outputs": [],
   "source": [
    "with open('./source/wiki_data.pickle', 'rb') as handle:\n",
    "    wiki_table_df = pickle.load(handle)"
   ]
  },
  {
   "cell_type": "code",
   "execution_count": 21,
   "metadata": {},
   "outputs": [
    {
     "data": {
      "text/plain": [
       "1002"
      ]
     },
     "execution_count": 21,
     "metadata": {},
     "output_type": "execute_result"
    }
   ],
   "source": [
    "len(wiki_table_df)"
   ]
  },
  {
   "cell_type": "code",
   "execution_count": 52,
   "metadata": {},
   "outputs": [
    {
     "data": {
      "text/plain": [
       "[{'num_col': 2,\n",
       "  'num_row': 6,\n",
       "  'pg_title': 'Khalsa Diwan Society Vancouver',\n",
       "  'section_title': 'First executive committee',\n",
       "  'table_caption': 'First executive committee'},\n",
       " ['Title', 'Person'],\n",
       " [['President', 'Bhai Sewa Singh'],\n",
       "  ['Vice President', 'Bhai Bhola Singh (Narinder Singh)'],\n",
       "  ['Treasurer', 'Bhai Arjan Singh'],\n",
       "  ['Member', 'Bhai Bhag Singh'],\n",
       "  ['Member', 'Bhai Balwant Singh'],\n",
       "  ['Member', 'Bhai Bhola Singh']],\n",
       " 'society']"
      ]
     },
     "execution_count": 52,
     "metadata": {},
     "output_type": "execute_result"
    }
   ],
   "source": [
    "wiki_table_df[2]"
   ]
  },
  {
   "cell_type": "code",
   "execution_count": 63,
   "metadata": {},
   "outputs": [
    {
     "data": {
      "text/plain": [
       "array([ 0, 45, 45, 38,  0, 45, 45, 38,  0, 45, 39, 38,  0, 45, 39, 38,  0,\n",
       "       45, 42, 38,  0, 45, 46, 38,  0, 45, 46, 38,  0, 45, 46, 38,  0, 45,\n",
       "       46, 38,  0, 45, 46, 38,  0, 44, 22, 22])"
      ]
     },
     "execution_count": 63,
     "metadata": {},
     "output_type": "execute_result"
    }
   ],
   "source": [
    "np.array(flatten_cells)"
   ]
  },
  {
   "cell_type": "code",
   "execution_count": 67,
   "metadata": {},
   "outputs": [
    {
     "data": {
      "text/plain": [
       "34.7346189164371"
      ]
     },
     "execution_count": 67,
     "metadata": {},
     "output_type": "execute_result"
    }
   ],
   "source": [
    "cells = wiki_table_df[0][2]\n",
    "flatten_cells = [len(i) for rows in cells for i in rows]\n",
    "flatten_cells = np.array(flatten_cells)\n",
    "flatten_cells = flatten_cells[flatten_cells > 0]\n",
    "max(flatten_cells)\n",
    "sum(flatten_cells)/len(flatten_cells)\n",
    "np.var(flatten_cells)"
   ]
  },
  {
   "cell_type": "code",
   "execution_count": 73,
   "metadata": {},
   "outputs": [],
   "source": [
    "wiki_dict = {\n",
    "    'num_col':[],\n",
    "    'num_row':[],\n",
    "#     'max_rows': [],\n",
    "#     'max_rows': [],\n",
    "    'max_cell_length': [],\n",
    "    'avg_length': [],\n",
    "    'length_variance':[],\n",
    "    \n",
    "    'pg_title': [],\n",
    "    'section_title': [],\n",
    "    'table_caption': [],\n",
    "    'columns': [],\n",
    "    'values': [],\n",
    "#     'X': [],\n",
    "    'y': []\n",
    "}"
   ]
  },
  {
   "cell_type": "code",
   "execution_count": 75,
   "metadata": {},
   "outputs": [
    {
     "data": {
      "text/plain": [
       "[{'num_col': 1,\n",
       "  'num_row': 0,\n",
       "  'pg_title': 'Manitoba general election, 1977',\n",
       "  'section_title': 'Results',\n",
       "  'table_caption': 'Results'},\n",
       " ['Precededby 1973 Manitoba election'],\n",
       " [],\n",
       " 'society']"
      ]
     },
     "execution_count": 75,
     "metadata": {},
     "output_type": "execute_result"
    }
   ],
   "source": [
    "wiki_row"
   ]
  },
  {
   "cell_type": "code",
   "execution_count": 74,
   "metadata": {},
   "outputs": [
    {
     "ename": "ValueError",
     "evalue": "max() arg is an empty sequence",
     "output_type": "error",
     "traceback": [
      "\u001b[0;31m---------------------------------------------------------------------------\u001b[0m",
      "\u001b[0;31mValueError\u001b[0m                                Traceback (most recent call last)",
      "\u001b[0;32m<ipython-input-74-28921fb95f7c>\u001b[0m in \u001b[0;36m<module>\u001b[0;34m\u001b[0m\n\u001b[1;32m      7\u001b[0m     \u001b[0mflatten_cells\u001b[0m \u001b[0;34m=\u001b[0m \u001b[0mnp\u001b[0m\u001b[0;34m.\u001b[0m\u001b[0marray\u001b[0m\u001b[0;34m(\u001b[0m\u001b[0mflatten_cells\u001b[0m\u001b[0;34m)\u001b[0m\u001b[0;34m\u001b[0m\u001b[0;34m\u001b[0m\u001b[0m\n\u001b[1;32m      8\u001b[0m     \u001b[0mflatten_cells\u001b[0m \u001b[0;34m=\u001b[0m \u001b[0mflatten_cells\u001b[0m\u001b[0;34m[\u001b[0m\u001b[0mflatten_cells\u001b[0m \u001b[0;34m>\u001b[0m \u001b[0;36m0\u001b[0m\u001b[0;34m]\u001b[0m\u001b[0;34m\u001b[0m\u001b[0;34m\u001b[0m\u001b[0m\n\u001b[0;32m----> 9\u001b[0;31m     \u001b[0mwiki_dict\u001b[0m\u001b[0;34m[\u001b[0m\u001b[0;34m'max_cell_length'\u001b[0m\u001b[0;34m]\u001b[0m\u001b[0;34m.\u001b[0m\u001b[0mappend\u001b[0m\u001b[0;34m(\u001b[0m\u001b[0mmax\u001b[0m\u001b[0;34m(\u001b[0m\u001b[0mflatten_cells\u001b[0m\u001b[0;34m)\u001b[0m\u001b[0;34m)\u001b[0m\u001b[0;34m\u001b[0m\u001b[0;34m\u001b[0m\u001b[0m\n\u001b[0m\u001b[1;32m     10\u001b[0m     \u001b[0mwiki_dict\u001b[0m\u001b[0;34m[\u001b[0m\u001b[0;34m'avg_length'\u001b[0m\u001b[0;34m]\u001b[0m\u001b[0;34m.\u001b[0m\u001b[0mappend\u001b[0m\u001b[0;34m(\u001b[0m\u001b[0msum\u001b[0m\u001b[0;34m(\u001b[0m\u001b[0mflatten_cells\u001b[0m\u001b[0;34m)\u001b[0m\u001b[0;34m/\u001b[0m\u001b[0mlen\u001b[0m\u001b[0;34m(\u001b[0m\u001b[0mflatten_cells\u001b[0m\u001b[0;34m)\u001b[0m\u001b[0;34m)\u001b[0m\u001b[0;34m\u001b[0m\u001b[0;34m\u001b[0m\u001b[0m\n\u001b[1;32m     11\u001b[0m     \u001b[0mwiki_dict\u001b[0m\u001b[0;34m[\u001b[0m\u001b[0;34m'length_variance'\u001b[0m\u001b[0;34m]\u001b[0m\u001b[0;34m.\u001b[0m\u001b[0mappend\u001b[0m\u001b[0;34m(\u001b[0m\u001b[0mnp\u001b[0m\u001b[0;34m.\u001b[0m\u001b[0mvar\u001b[0m\u001b[0;34m(\u001b[0m\u001b[0mflatten_cells\u001b[0m\u001b[0;34m)\u001b[0m\u001b[0;34m)\u001b[0m\u001b[0;34m\u001b[0m\u001b[0;34m\u001b[0m\u001b[0m\n",
      "\u001b[0;31mValueError\u001b[0m: max() arg is an empty sequence"
     ]
    }
   ],
   "source": [
    "for wiki_row in wiki_table_df:\n",
    "    wiki_dict['num_col'].append(wiki_row[0]['num_col'])\n",
    "    wiki_dict['num_row'].append(wiki_row[0]['num_row'])\n",
    "    \n",
    "    cells = wiki_row[2]\n",
    "    flatten_cells = [len(i) for rows in cells for i in rows]\n",
    "    flatten_cells = np.array(flatten_cells)\n",
    "    flatten_cells = flatten_cells[flatten_cells > 0]\n",
    "    if flatten_cells == []:\n",
    "        wiki_dict['max_cell_length'].append(0)\n",
    "        wiki_dict['avg_length'].append(0)\n",
    "        wiki_dict['length_variance'].append(0)\n",
    "    else:\n",
    "        wiki_dict['max_cell_length'].append(max(flatten_cells))\n",
    "        wiki_dict['avg_length'].append(sum(flatten_cells)/len(flatten_cells))\n",
    "        wiki_dict['length_variance'].append(np.var(flatten_cells))\n",
    "\n",
    "    wiki_dict['pg_title'].append(wiki_row[0]['pg_title'])\n",
    "    wiki_dict['section_title'].append(wiki_row[0]['section_title'])\n",
    "    if 'table_caption' in wiki_row[0]:\n",
    "        wiki_dict['table_caption'].append(wiki_row[0]['table_caption'])\n",
    "    else:\n",
    "        wiki_dict['table_caption'].append('')\n",
    "\n",
    "    wiki_dict['columns'].append(' '.join(wiki_row[1]))\n",
    "    values = [item for sublist in wiki_row[2] for item in sublist]\n",
    "    wiki_dict['values'].append(' '.join(values))\n",
    "    wiki_dict['y'].append(wiki_row[3])\n"
   ]
  },
  {
   "cell_type": "code",
   "execution_count": 24,
   "metadata": {},
   "outputs": [
    {
     "name": "stdout",
     "output_type": "stream",
     "text": [
      "pg_title 1002\n",
      "section_title 1002\n",
      "table_caption 1002\n",
      "columns 1002\n",
      "values 1002\n",
      "y 1002\n"
     ]
    }
   ],
   "source": [
    "for key, value in wiki_dict.items():\n",
    "    print (key, len(value))"
   ]
  },
  {
   "cell_type": "code",
   "execution_count": 25,
   "metadata": {},
   "outputs": [],
   "source": [
    "wiki_df = pd.DataFrame.from_dict(wiki_dict)"
   ]
  },
  {
   "cell_type": "code",
   "execution_count": 26,
   "metadata": {},
   "outputs": [],
   "source": [
    "wiki_df['X'] = wiki_df['pg_title'] + ' ' +\\\n",
    "               wiki_df['section_title'] + ' ' +\\\n",
    "               wiki_df['table_caption'] + ' ' +\\\n",
    "               wiki_df['columns'] + ' ' +\\\n",
    "               wiki_df['values'] # + ' ' +\\\n",
    "#                wiki_df['y']"
   ]
  },
  {
   "cell_type": "code",
   "execution_count": 27,
   "metadata": {},
   "outputs": [],
   "source": [
    "with open('./source/wiki_df.pickle', 'wb') as handle:\n",
    "    pickle.dump(wiki_df, handle)"
   ]
  },
  {
   "cell_type": "code",
   "execution_count": 18,
   "metadata": {},
   "outputs": [
    {
     "data": {
      "text/html": [
       "<div>\n",
       "<style scoped>\n",
       "    .dataframe tbody tr th:only-of-type {\n",
       "        vertical-align: middle;\n",
       "    }\n",
       "\n",
       "    .dataframe tbody tr th {\n",
       "        vertical-align: top;\n",
       "    }\n",
       "\n",
       "    .dataframe thead th {\n",
       "        text-align: right;\n",
       "    }\n",
       "</style>\n",
       "<table border=\"1\" class=\"dataframe\">\n",
       "  <thead>\n",
       "    <tr style=\"text-align: right;\">\n",
       "      <th></th>\n",
       "      <th>pg_title</th>\n",
       "      <th>section_title</th>\n",
       "      <th>table_caption</th>\n",
       "      <th>columns</th>\n",
       "      <th>values</th>\n",
       "      <th>y</th>\n",
       "      <th>X</th>\n",
       "    </tr>\n",
       "  </thead>\n",
       "  <tbody>\n",
       "    <tr>\n",
       "      <th>0</th>\n",
       "      <td>Mid Antrim (Northern Ireland Parliament consti...</td>\n",
       "      <td>Members of Parliament</td>\n",
       "      <td>Members of Parliament</td>\n",
       "      <td>Election Election Member Party</td>\n",
       "      <td>1929, Northern Ireland general election, 1929...</td>\n",
       "      <td>society</td>\n",
       "      <td>Mid Antrim (Northern Ireland Parliament consti...</td>\n",
       "    </tr>\n",
       "    <tr>\n",
       "      <th>1</th>\n",
       "      <td>Whispermoon</td>\n",
       "      <td></td>\n",
       "      <td>Track listing</td>\n",
       "      <td>Professional ratings Professional ratings Revi...</td>\n",
       "      <td>Allmusic, Allmusic</td>\n",
       "      <td>arts</td>\n",
       "      <td>Whispermoon  Track listing Professional rating...</td>\n",
       "    </tr>\n",
       "    <tr>\n",
       "      <th>2</th>\n",
       "      <td>Khalsa Diwan Society Vancouver</td>\n",
       "      <td>First executive committee</td>\n",
       "      <td>First executive committee</td>\n",
       "      <td>Title Person</td>\n",
       "      <td>President Bhai Sewa Singh Vice President Bhai ...</td>\n",
       "      <td>society</td>\n",
       "      <td>Khalsa Diwan Society Vancouver First executive...</td>\n",
       "    </tr>\n",
       "    <tr>\n",
       "      <th>3</th>\n",
       "      <td>Julien Leparoux</td>\n",
       "      <td>Year-end charts</td>\n",
       "      <td>Year-end charts</td>\n",
       "      <td>Chart (2006â€“present) Peak position</td>\n",
       "      <td>National Earnings List for Jockeys 2006 8 Nati...</td>\n",
       "      <td>sports</td>\n",
       "      <td>Julien Leparoux Year-end charts Year-end chart...</td>\n",
       "    </tr>\n",
       "    <tr>\n",
       "      <th>4</th>\n",
       "      <td>Real Voice</td>\n",
       "      <td>Charts</td>\n",
       "      <td>Charts</td>\n",
       "      <td>Release Chart Peak Position Sales Total Chart Run</td>\n",
       "      <td>28 February 2007 Oricon Weekly Singles Chart W...</td>\n",
       "      <td>arts</td>\n",
       "      <td>Real Voice Charts Charts Release Chart Peak Po...</td>\n",
       "    </tr>\n",
       "    <tr>\n",
       "      <th>...</th>\n",
       "      <td>...</td>\n",
       "      <td>...</td>\n",
       "      <td>...</td>\n",
       "      <td>...</td>\n",
       "      <td>...</td>\n",
       "      <td>...</td>\n",
       "      <td>...</td>\n",
       "    </tr>\n",
       "    <tr>\n",
       "      <th>1006</th>\n",
       "      <td>Go Tell It on the Mountain (album)</td>\n",
       "      <td></td>\n",
       "      <td>Track listing</td>\n",
       "      <td>Professional ratings Professional ratings Revi...</td>\n",
       "      <td>Allmusic, Allmusic link</td>\n",
       "      <td>arts</td>\n",
       "      <td>Go Tell It on the Mountain (album)  Track list...</td>\n",
       "    </tr>\n",
       "    <tr>\n",
       "      <th>1007</th>\n",
       "      <td>Atom Bomb (album)</td>\n",
       "      <td></td>\n",
       "      <td>Track listing</td>\n",
       "      <td>Professional ratings Professional ratings Revi...</td>\n",
       "      <td>Allmusic, Allmusic  Rolling Stone, Rolling Stone</td>\n",
       "      <td>arts</td>\n",
       "      <td>Atom Bomb (album)  Track listing Professional ...</td>\n",
       "    </tr>\n",
       "    <tr>\n",
       "      <th>1008</th>\n",
       "      <td>Claire Holt</td>\n",
       "      <td>Filmography</td>\n",
       "      <td>Filmography</td>\n",
       "      <td>Year Title Role Notes</td>\n",
       "      <td>2006â€“2008 H2O: Just Add Water, H2O: Just Add...</td>\n",
       "      <td>arts</td>\n",
       "      <td>Claire Holt Filmography Filmography Year Title...</td>\n",
       "    </tr>\n",
       "    <tr>\n",
       "      <th>1009</th>\n",
       "      <td>Last Light (album)</td>\n",
       "      <td></td>\n",
       "      <td>Track listing</td>\n",
       "      <td>Professional ratings Professional ratings Revi...</td>\n",
       "      <td>Allmusic, Allmusic  Pitchfork Media, Pitchfork...</td>\n",
       "      <td>arts</td>\n",
       "      <td>Last Light (album)  Track listing Professional...</td>\n",
       "    </tr>\n",
       "    <tr>\n",
       "      <th>1010</th>\n",
       "      <td>1988 World Rally Championship season</td>\n",
       "      <td>Teams and Drivers</td>\n",
       "      <td>Teams and Drivers</td>\n",
       "      <td>Team Constructor Car Tyre Drivers Rounds</td>\n",
       "      <td>Martini Lancia, Martini Racing Lancia, Lancia ...</td>\n",
       "      <td>sports</td>\n",
       "      <td>1988 World Rally Championship season Teams and...</td>\n",
       "    </tr>\n",
       "  </tbody>\n",
       "</table>\n",
       "<p>1011 rows × 7 columns</p>\n",
       "</div>"
      ],
      "text/plain": [
       "                                               pg_title  \\\n",
       "0     Mid Antrim (Northern Ireland Parliament consti...   \n",
       "1                                           Whispermoon   \n",
       "2                        Khalsa Diwan Society Vancouver   \n",
       "3                                       Julien Leparoux   \n",
       "4                                            Real Voice   \n",
       "...                                                 ...   \n",
       "1006                 Go Tell It on the Mountain (album)   \n",
       "1007                                  Atom Bomb (album)   \n",
       "1008                                        Claire Holt   \n",
       "1009                                 Last Light (album)   \n",
       "1010               1988 World Rally Championship season   \n",
       "\n",
       "                  section_title              table_caption  \\\n",
       "0         Members of Parliament      Members of Parliament   \n",
       "1                                            Track listing   \n",
       "2     First executive committee  First executive committee   \n",
       "3               Year-end charts            Year-end charts   \n",
       "4                        Charts                     Charts   \n",
       "...                         ...                        ...   \n",
       "1006                                         Track listing   \n",
       "1007                                         Track listing   \n",
       "1008                Filmography                Filmography   \n",
       "1009                                         Track listing   \n",
       "1010          Teams and Drivers          Teams and Drivers   \n",
       "\n",
       "                                                columns  \\\n",
       "0                        Election Election Member Party   \n",
       "1     Professional ratings Professional ratings Revi...   \n",
       "2                                          Title Person   \n",
       "3                  Chart (2006â€“present) Peak position   \n",
       "4     Release Chart Peak Position Sales Total Chart Run   \n",
       "...                                                 ...   \n",
       "1006  Professional ratings Professional ratings Revi...   \n",
       "1007  Professional ratings Professional ratings Revi...   \n",
       "1008                              Year Title Role Notes   \n",
       "1009  Professional ratings Professional ratings Revi...   \n",
       "1010           Team Constructor Car Tyre Drivers Rounds   \n",
       "\n",
       "                                                 values        y  \\\n",
       "0      1929, Northern Ireland general election, 1929...  society   \n",
       "1                                   Allmusic, Allmusic      arts   \n",
       "2     President Bhai Sewa Singh Vice President Bhai ...  society   \n",
       "3     National Earnings List for Jockeys 2006 8 Nati...   sports   \n",
       "4     28 February 2007 Oricon Weekly Singles Chart W...     arts   \n",
       "...                                                 ...      ...   \n",
       "1006                            Allmusic, Allmusic link     arts   \n",
       "1007  Allmusic, Allmusic  Rolling Stone, Rolling Stone      arts   \n",
       "1008  2006â€“2008 H2O: Just Add Water, H2O: Just Add...     arts   \n",
       "1009  Allmusic, Allmusic  Pitchfork Media, Pitchfork...     arts   \n",
       "1010  Martini Lancia, Martini Racing Lancia, Lancia ...   sports   \n",
       "\n",
       "                                                      X  \n",
       "0     Mid Antrim (Northern Ireland Parliament consti...  \n",
       "1     Whispermoon  Track listing Professional rating...  \n",
       "2     Khalsa Diwan Society Vancouver First executive...  \n",
       "3     Julien Leparoux Year-end charts Year-end chart...  \n",
       "4     Real Voice Charts Charts Release Chart Peak Po...  \n",
       "...                                                 ...  \n",
       "1006  Go Tell It on the Mountain (album)  Track list...  \n",
       "1007  Atom Bomb (album)  Track listing Professional ...  \n",
       "1008  Claire Holt Filmography Filmography Year Title...  \n",
       "1009  Last Light (album)  Track listing Professional...  \n",
       "1010  1988 World Rally Championship season Teams and...  \n",
       "\n",
       "[1011 rows x 7 columns]"
      ]
     },
     "execution_count": 18,
     "metadata": {},
     "output_type": "execute_result"
    }
   ],
   "source": [
    "wiki_df"
   ]
  },
  {
   "cell_type": "code",
   "execution_count": null,
   "metadata": {},
   "outputs": [],
   "source": [
    "# wiki_table_df[4]"
   ]
  }
 ],
 "metadata": {
  "kernelspec": {
   "display_name": "Python 3",
   "language": "python",
   "name": "python3"
  },
  "language_info": {
   "codemirror_mode": {
    "name": "ipython",
    "version": 3
   },
   "file_extension": ".py",
   "mimetype": "text/x-python",
   "name": "python",
   "nbconvert_exporter": "python",
   "pygments_lexer": "ipython3",
   "version": "3.7.9"
  }
 },
 "nbformat": 4,
 "nbformat_minor": 4
}
