{
 "cells": [
  {
   "cell_type": "code",
   "execution_count": 1,
   "metadata": {},
   "outputs": [],
   "source": [
    "from tqdm.notebook import tqdm\n",
    "import pandas as pd\n",
    "import pickle\n",
    "import numpy as np\n",
    "\n",
    "# wiki_data"
   ]
  },
  {
   "cell_type": "code",
   "execution_count": 4,
   "metadata": {},
   "outputs": [],
   "source": [
    "with open('./source/wiki_science_df.pickle', 'rb') as handle:\n",
    "    dtf_1 = pickle.load(handle)"
   ]
  },
  {
   "cell_type": "code",
   "execution_count": 6,
   "metadata": {},
   "outputs": [],
   "source": [
    "# dtf_1.head()"
   ]
  },
  {
   "cell_type": "code",
   "execution_count": 7,
   "metadata": {},
   "outputs": [],
   "source": [
    "with open('./source/wiki_processing_df_youdong.pickle', 'rb') as handle:\n",
    "    dtf_2 = pickle.load(handle)"
   ]
  },
  {
   "cell_type": "code",
   "execution_count": 8,
   "metadata": {},
   "outputs": [
    {
     "data": {
      "text/html": [
       "<div>\n",
       "<style scoped>\n",
       "    .dataframe tbody tr th:only-of-type {\n",
       "        vertical-align: middle;\n",
       "    }\n",
       "\n",
       "    .dataframe tbody tr th {\n",
       "        vertical-align: top;\n",
       "    }\n",
       "\n",
       "    .dataframe thead th {\n",
       "        text-align: right;\n",
       "    }\n",
       "</style>\n",
       "<table border=\"1\" class=\"dataframe\">\n",
       "  <thead>\n",
       "    <tr style=\"text-align: right;\">\n",
       "      <th></th>\n",
       "      <th>num_col</th>\n",
       "      <th>num_row</th>\n",
       "      <th>max_cell_length</th>\n",
       "      <th>avg_length</th>\n",
       "      <th>length_variance</th>\n",
       "      <th>pg_title</th>\n",
       "      <th>section_title</th>\n",
       "      <th>table_caption</th>\n",
       "      <th>columns</th>\n",
       "      <th>values</th>\n",
       "      <th>y</th>\n",
       "      <th>X</th>\n",
       "    </tr>\n",
       "  </thead>\n",
       "  <tbody>\n",
       "    <tr>\n",
       "      <th>0</th>\n",
       "      <td>4.0</td>\n",
       "      <td>11.0</td>\n",
       "      <td>46.0</td>\n",
       "      <td>41.151515</td>\n",
       "      <td>34.734619</td>\n",
       "      <td>Mid Antrim (Northern Ireland Parliament consti...</td>\n",
       "      <td>Members of Parliament</td>\n",
       "      <td>Members of Parliament</td>\n",
       "      <td>Election Election Member Party</td>\n",
       "      <td>1929, Northern Ireland general election, 1929...</td>\n",
       "      <td>society</td>\n",
       "      <td>Mid Antrim (Northern Ireland Parliament consti...</td>\n",
       "    </tr>\n",
       "    <tr>\n",
       "      <th>1</th>\n",
       "      <td>2.0</td>\n",
       "      <td>1.0</td>\n",
       "      <td>18.0</td>\n",
       "      <td>18.000000</td>\n",
       "      <td>0.000000</td>\n",
       "      <td>Whispermoon</td>\n",
       "      <td></td>\n",
       "      <td>Track listing</td>\n",
       "      <td>Professional ratings Professional ratings Revi...</td>\n",
       "      <td>Allmusic, Allmusic</td>\n",
       "      <td>music</td>\n",
       "      <td>Whispermoon  Track listing Professional rating...</td>\n",
       "    </tr>\n",
       "    <tr>\n",
       "      <th>2</th>\n",
       "      <td>2.0</td>\n",
       "      <td>6.0</td>\n",
       "      <td>33.0</td>\n",
       "      <td>13.583333</td>\n",
       "      <td>52.243056</td>\n",
       "      <td>Khalsa Diwan Society Vancouver</td>\n",
       "      <td>First executive committee</td>\n",
       "      <td>First executive committee</td>\n",
       "      <td>Title Person</td>\n",
       "      <td>President Bhai Sewa Singh Vice President Bhai ...</td>\n",
       "      <td>society</td>\n",
       "      <td>Khalsa Diwan Society Vancouver First executive...</td>\n",
       "    </tr>\n",
       "    <tr>\n",
       "      <th>3</th>\n",
       "      <td>2.0</td>\n",
       "      <td>7.0</td>\n",
       "      <td>39.0</td>\n",
       "      <td>20.142857</td>\n",
       "      <td>355.693878</td>\n",
       "      <td>Julien Leparoux</td>\n",
       "      <td>Year-end charts</td>\n",
       "      <td>Year-end charts</td>\n",
       "      <td>Chart (2006â€“present) Peak position</td>\n",
       "      <td>National Earnings List for Jockeys 2006 8 Nati...</td>\n",
       "      <td>racing</td>\n",
       "      <td>Julien Leparoux Year-end charts Year-end chart...</td>\n",
       "    </tr>\n",
       "    <tr>\n",
       "      <th>4</th>\n",
       "      <td>5.0</td>\n",
       "      <td>2.0</td>\n",
       "      <td>34.0</td>\n",
       "      <td>13.750000</td>\n",
       "      <td>121.187500</td>\n",
       "      <td>Real Voice</td>\n",
       "      <td>Charts</td>\n",
       "      <td>Charts</td>\n",
       "      <td>Release Chart Peak Position Sales Total Chart Run</td>\n",
       "      <td>28 February 2007 Oricon Weekly Singles Chart W...</td>\n",
       "      <td>music</td>\n",
       "      <td>Real Voice Charts Charts Release Chart Peak Po...</td>\n",
       "    </tr>\n",
       "  </tbody>\n",
       "</table>\n",
       "</div>"
      ],
      "text/plain": [
       "   num_col  num_row  max_cell_length  avg_length  length_variance  \\\n",
       "0      4.0     11.0             46.0   41.151515        34.734619   \n",
       "1      2.0      1.0             18.0   18.000000         0.000000   \n",
       "2      2.0      6.0             33.0   13.583333        52.243056   \n",
       "3      2.0      7.0             39.0   20.142857       355.693878   \n",
       "4      5.0      2.0             34.0   13.750000       121.187500   \n",
       "\n",
       "                                            pg_title  \\\n",
       "0  Mid Antrim (Northern Ireland Parliament consti...   \n",
       "1                                        Whispermoon   \n",
       "2                     Khalsa Diwan Society Vancouver   \n",
       "3                                    Julien Leparoux   \n",
       "4                                         Real Voice   \n",
       "\n",
       "               section_title              table_caption  \\\n",
       "0      Members of Parliament      Members of Parliament   \n",
       "1                                         Track listing   \n",
       "2  First executive committee  First executive committee   \n",
       "3            Year-end charts            Year-end charts   \n",
       "4                     Charts                     Charts   \n",
       "\n",
       "                                             columns  \\\n",
       "0                     Election Election Member Party   \n",
       "1  Professional ratings Professional ratings Revi...   \n",
       "2                                       Title Person   \n",
       "3               Chart (2006â€“present) Peak position   \n",
       "4  Release Chart Peak Position Sales Total Chart Run   \n",
       "\n",
       "                                              values        y  \\\n",
       "0   1929, Northern Ireland general election, 1929...  society   \n",
       "1                                Allmusic, Allmusic     music   \n",
       "2  President Bhai Sewa Singh Vice President Bhai ...  society   \n",
       "3  National Earnings List for Jockeys 2006 8 Nati...   racing   \n",
       "4  28 February 2007 Oricon Weekly Singles Chart W...    music   \n",
       "\n",
       "                                                   X  \n",
       "0  Mid Antrim (Northern Ireland Parliament consti...  \n",
       "1  Whispermoon  Track listing Professional rating...  \n",
       "2  Khalsa Diwan Society Vancouver First executive...  \n",
       "3  Julien Leparoux Year-end charts Year-end chart...  \n",
       "4  Real Voice Charts Charts Release Chart Peak Po...  "
      ]
     },
     "execution_count": 8,
     "metadata": {},
     "output_type": "execute_result"
    }
   ],
   "source": [
    "dtf_2.head()"
   ]
  },
  {
   "cell_type": "code",
   "execution_count": 26,
   "metadata": {},
   "outputs": [],
   "source": [
    "dtf = pd.concat([dtf_1, dtf_2])\n",
    "dtf['X'] = dtf['pg_title'] + ' ' +\\\n",
    "               dtf['section_title'] + ' ' +\\\n",
    "               dtf['table_caption'] + ' ' +\\\n",
    "               dtf['columns'] + ' ' +\\\n",
    "               dtf['values'] # + ' ' +\\"
   ]
  },
  {
   "cell_type": "code",
   "execution_count": 27,
   "metadata": {},
   "outputs": [
    {
     "name": "stdout",
     "output_type": "stream",
     "text": [
      "92\n"
     ]
    }
   ],
   "source": [
    "football_indexs = []\n",
    "for index, row in dtf[dtf['y'] == 'sports'].iterrows():\n",
    "    if ('football' in row['X'].lower() or 'world cup' in row['X'].lower() or\\\n",
    "        'npsl' in row['X'].lower() or 'fifa' in row['X'].lower() or\\\n",
    "       'mcgrath cup' in row['X'].lower() or 'balkans cup' in row['X'].lower() or\\\n",
    "        \n",
    "       'hakeem nicks' in row['X'].lower() or 'nfl'  in row['X'].lower() or\\\n",
    "        'alan risher' in row['X'].lower() or\\\n",
    "        'jamie heaslip' in row['X'].lower() or\\\n",
    "        'kitch christie' in row['X'].lower() or\\\n",
    "        'county cup' in row['X'].lower() or\\\n",
    "        'russian championship'  in row['X'].lower() or\\\n",
    "        'jamie heaslip' in row['X'].lower() or\\\n",
    "        'fred besana' in row['X'].lower() or\\\n",
    "        \n",
    "       'afc' in row['X'].lower() or\\\n",
    "        \n",
    "        'soccer' in row['X'].lower() or\\\n",
    "        'CE JÃºpiter' in row['X'] or\\\n",
    "        'canadian championship' in row['X'].lower() or\\\n",
    "        'club performance club' in row['X'].lower() or\\\n",
    "        'reimond manco' in row['X'].lower() or\\\n",
    "        'wpsl' in row['X'].lower() or\\\n",
    "        'league cup' in row['X'].lower() or\\\n",
    "        'Luis GarcÃ­a Sanz' in row['X'] or\\\n",
    "        'matty blythe' in row['X'].lower() or\\\n",
    "        'persibo bojonegoro' in row['X'].lower() or\\\n",
    "        'marcelo estigarribia' in row['X'].lower() or\\\n",
    "       'jorge valdano' in row['X'].lower()):\n",
    "        football_indexs.append(index)\n",
    "print (len(football_indexs))\n",
    "dtf.loc[football_indexs, 'y'] = 'football'"
   ]
  },
  {
   "cell_type": "code",
   "execution_count": 18,
   "metadata": {},
   "outputs": [],
   "source": [
    "# dtf.head()"
   ]
  },
  {
   "cell_type": "code",
   "execution_count": 28,
   "metadata": {},
   "outputs": [
    {
     "name": "stdout",
     "output_type": "stream",
     "text": [
      "55\n"
     ]
    }
   ],
   "source": [
    "soccer_indexs = []\n",
    "for index, row in dtf[dtf['y'] == 'football'].iterrows():\n",
    "    if ('world cup' in row['X'].lower() or\\\n",
    "        'npsl' in row['X'].lower() or \n",
    "#        'hakeem nicks' in row['X'].lower() or 'nfl'  in row['X'].lower() or\\\n",
    "#         'alan risher' in row['X'].lower() or\\\n",
    "#         'jamie heaslip' in row['X'].lower() or\\\n",
    "#         'kitch christie' in row['X'].lower() or\\\n",
    "#         'jamie heaslip' in row['X'].lower() or\\\n",
    "#         'fred besana' in row['X'].lower() or\\\n",
    "        \n",
    "       'afc' in row['X'].lower() or\\\n",
    "        \n",
    "        'soccer' in row['X'].lower() or\\\n",
    "        'county cup' in row['X'].lower() or\\\n",
    "        'russian championship'  in row['X'].lower() or\\\n",
    "        'fifa' in row['X'].lower() or\\\n",
    "       'mcgrath cup' in row['X'].lower() or 'balkans cup' in row['X'].lower() or\\\n",
    "        'CE JÃºpiter' in row['X'] or\\\n",
    "        'canadian championship' in row['X'].lower() or\\\n",
    "        'club performance club' in row['X'].lower() or\\\n",
    "        'reimond manco' in row['X'].lower() or\\\n",
    "        'wpsl' in row['X'].lower() or\\\n",
    "        'league cup' in row['X'].lower() or\\\n",
    "        'Luis GarcÃ­a Sanz' in row['X'] or\\\n",
    "        'matty blythe' in row['X'].lower() or\\\n",
    "        'persibo bojonegoro' in row['X'].lower() or\\\n",
    "        'marcelo estigarribia' in row['X'].lower() or\\\n",
    "       'jorge valdano' in row['X'].lower()):\n",
    "        soccer_indexs.append(index)\n",
    "print (len(soccer_indexs))\n",
    "dtf.loc[soccer_indexs, 'y'] = 'soccer'"
   ]
  },
  {
   "cell_type": "code",
   "execution_count": 29,
   "metadata": {},
   "outputs": [
    {
     "name": "stdout",
     "output_type": "stream",
     "text": [
      "31\n"
     ]
    }
   ],
   "source": [
    "racing_indexs = []\n",
    "for index, row in dtf[dtf['y'] == 'sports'].iterrows():\n",
    "    if ('racing' in row['X'].lower() or 'drive' in row['X'].lower() or 'red bull' in row['X'].lower() or\\\n",
    "       ' car ' in row['X'].lower() or\\\n",
    "        'carlos pairetti' in row['X'].lower() or\\\n",
    "        'road' in  row['X'].lower()):\n",
    "        racing_indexs.append(index)\n",
    "print (len(racing_indexs))\n",
    "dtf.loc[racing_indexs, 'y'] = 'racing'"
   ]
  },
  {
   "cell_type": "code",
   "execution_count": 30,
   "metadata": {},
   "outputs": [
    {
     "name": "stdout",
     "output_type": "stream",
     "text": [
      "4\n"
     ]
    }
   ],
   "source": [
    "tennis_indexs = []\n",
    "for index, row in dtf[dtf['y'] == 'sports'].iterrows():\n",
    "    if ('wimbledon championships' in row['X'].lower() or\\\n",
    "        'ulrich pinner' in row['X'].lower() or\\\n",
    "        'tennis' in row['X'].lower()):\n",
    "        tennis_indexs.append(index)\n",
    "print (len(tennis_indexs))\n",
    "dtf.loc[tennis_indexs, 'y'] = 'tennis'"
   ]
  },
  {
   "cell_type": "code",
   "execution_count": 32,
   "metadata": {},
   "outputs": [
    {
     "name": "stdout",
     "output_type": "stream",
     "text": [
      "72\n"
     ]
    }
   ],
   "source": [
    "other_indexs = []\n",
    "for index, row in dtf[dtf['y'] == 'sports'].iterrows():\n",
    "    if ('volleyball' in row['X'].lower() or\\\n",
    "        'tennis' in row['X'].lower() or\\\n",
    "        'skating' in row['X'].lower() or 'cricketer' in row['X'].lower() or\\\n",
    "       'swim' in row['X'].lower() or 'chess' in row['X'].lower() or\\\n",
    "    'badminton' in row['X'].lower() or 'baseball' in row['X'].lower() or\\\n",
    "       'bowling' in row['X'].lower() or 'boxing' in row['X'].lower() or\\\n",
    "        'atlanta flames season' in row['X'].lower() or\\\n",
    "        'julien leparoux'  in row['X'].lower() or\\\n",
    "        'South Panola School District' in row['X'] or\\\n",
    "        'Reggie Lewis Track and Athletic Center'  in row['X'] or\\\n",
    "         #'baseball'\n",
    "       'cleveland indians season' in row['X'].lower() or\\\n",
    "        # hockey\n",
    "        'hockey' in row['X'].lower() or\\\n",
    "       'ottawa senators season' in row['X'].lower() or\\\n",
    "       'warsaw cup' in row['X'].lower() or\\\n",
    "       'handball' in  row['X'].lower() or\\\n",
    "     'norwegian bandy premier league' in  row['X'].lower() or\\\n",
    "       'curling' in row['X'].lower() or\\\n",
    "        #bike\n",
    "       'bike' in row['X'].lower() or\\\n",
    "        'motorcycle' in row['X'].lower() or\\\n",
    "        'vuelta' in row['X'].lower() or\\\n",
    "       'track cycling' in row['X'].lower() or\\\n",
    "       'betfred league of legends' in row['X'].lower() or\\\n",
    "        'hautacam' in row['X'].lower() or\\\n",
    "        'paolo angioni' in row['X'].lower() or\\\n",
    "        #golf\n",
    "       'masters tournament' in row['X'].lower() or\\\n",
    "        'the big break' in row['X'].lower() or\\\n",
    "        'Criterium of Polish' in row['X'] or\\\n",
    "        'MiklÃ³s NÃ©meth (athlete)' in row['X'] or\\\n",
    "       'world games'  in row['X'].lower()):  \n",
    "        other_indexs.append(index)\n",
    "print (len(other_indexs))\n",
    "dtf.loc[other_indexs, 'y'] = 'other sports'"
   ]
  },
  {
   "cell_type": "code",
   "execution_count": 33,
   "metadata": {},
   "outputs": [
    {
     "name": "stdout",
     "output_type": "stream",
     "text": [
      "19\n"
     ]
    }
   ],
   "source": [
    "basketball_indexs = []\n",
    "for index, row in dtf[dtf['y'] == 'sports'].iterrows():\n",
    "    if ('basketball' in row['X'].lower() or 'fiba' in row['X'].lower() or 'nba' in row['X'].lower() or\\\n",
    "       'euroleague' in row['X'].lower()):\n",
    "        basketball_indexs.append(index)\n",
    "print (len(basketball_indexs))\n",
    "dtf.loc[basketball_indexs, 'y'] = 'basketball'"
   ]
  },
  {
   "cell_type": "code",
   "execution_count": 34,
   "metadata": {},
   "outputs": [],
   "source": [
    "with open('./source/wiki_dtf.pickle', 'wb') as handle:\n",
    "    pickle.dump(dtf,handle)"
   ]
  },
  {
   "cell_type": "code",
   "execution_count": 41,
   "metadata": {},
   "outputs": [
    {
     "data": {
      "text/plain": [
       "array(['science', 'basketball', 'soccer', 'racing', 'other sports',\n",
       "       'tennis', 'society', 'music', 'book', 'movie', 'games', 'football',\n",
       "       'media'], dtype=object)"
      ]
     },
     "execution_count": 41,
     "metadata": {},
     "output_type": "execute_result"
    }
   ],
   "source": [
    "dtf['y'].unique()"
   ]
  },
  {
   "cell_type": "code",
   "execution_count": 42,
   "metadata": {},
   "outputs": [],
   "source": [
    "dtf.loc[dtf['y'].isin(['basketball', 'soccer', 'racing', 'other sports', 'tennis', 'football']), 'y'] = 'sports'\n",
    "dtf.loc[dtf['y'].isin(['music', 'book', 'movie', 'media']), 'y'] = 'arts'"
   ]
  },
  {
   "cell_type": "code",
   "execution_count": 44,
   "metadata": {},
   "outputs": [],
   "source": [
    "dtf.loc[dtf['y'].isin(['music', 'book', 'movie', 'media']), 'y'] = 'arts'"
   ]
  },
  {
   "cell_type": "code",
   "execution_count": 45,
   "metadata": {},
   "outputs": [
    {
     "data": {
      "text/plain": [
       "array(['science', 'sports', 'society', 'arts', 'games'], dtype=object)"
      ]
     },
     "execution_count": 45,
     "metadata": {},
     "output_type": "execute_result"
    }
   ],
   "source": [
    "dtf['y'].unique()"
   ]
  },
  {
   "cell_type": "code",
   "execution_count": 46,
   "metadata": {},
   "outputs": [],
   "source": [
    "# dtf[dtf['y'] == 'book'].head()\n",
    "with open('./source/wiki_coarse_dtf.pickle', 'wb') as handle:\n",
    "    pickle.dump(dtf,handle)"
   ]
  }
 ],
 "metadata": {
  "kernelspec": {
   "display_name": "Python 3",
   "language": "python",
   "name": "python3"
  },
  "language_info": {
   "codemirror_mode": {
    "name": "ipython",
    "version": 3
   },
   "file_extension": ".py",
   "mimetype": "text/x-python",
   "name": "python",
   "nbconvert_exporter": "python",
   "pygments_lexer": "ipython3",
   "version": "3.7.9"
  }
 },
 "nbformat": 4,
 "nbformat_minor": 4
}
